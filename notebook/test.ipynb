{
 "cells": [
  {
   "cell_type": "code",
   "execution_count": 1,
   "id": "cee95c54",
   "metadata": {},
   "outputs": [
    {
     "name": "stderr",
     "output_type": "stream",
     "text": [
      "2025-09-01 18:41:50.492 WARNING streamlit.runtime.caching.cache_data_api: No runtime found, using MemoryCacheStorageManager\n",
      "2025-09-01 18:41:50.831 Thread 'MainThread': missing ScriptRunContext! This warning can be ignored when running in bare mode.\n",
      "2025-09-01 18:41:50.836 Thread 'MainThread': missing ScriptRunContext! This warning can be ignored when running in bare mode.\n",
      "2025-09-01 18:41:50.842 Thread 'MainThread': missing ScriptRunContext! This warning can be ignored when running in bare mode.\n",
      "2025-09-01 18:41:50.847 Thread 'MainThread': missing ScriptRunContext! This warning can be ignored when running in bare mode.\n"
     ]
    }
   ],
   "source": [
    "import streamlit as st\n",
    "import streamlit_authenticator as stauth"
   ]
  },
  {
   "cell_type": "code",
   "execution_count": null,
   "id": "56ba25b8",
   "metadata": {},
   "outputs": [],
   "source": [
    "names = ['Pushpendu Choudhury', 'Administrator', 'Test']\n",
    "usernames = ['pushpendu', 'analyst', 'admin']\n",
    "passwords = ['password', 'password', 'password']"
   ]
  },
  {
   "cell_type": "code",
   "execution_count": 21,
   "id": "42555abb",
   "metadata": {},
   "outputs": [
    {
     "name": "stderr",
     "output_type": "stream",
     "text": [
      "2025-09-02 14:25:20.723 WARNING streamlit.runtime.caching.cache_data_api: No runtime found, using MemoryCacheStorageManager\n",
      "2025-09-02 14:25:21.159 Thread 'MainThread': missing ScriptRunContext! This warning can be ignored when running in bare mode.\n",
      "2025-09-02 14:25:21.159 Thread 'MainThread': missing ScriptRunContext! This warning can be ignored when running in bare mode.\n",
      "2025-09-02 14:25:21.174 Thread 'MainThread': missing ScriptRunContext! This warning can be ignored when running in bare mode.\n",
      "2025-09-02 14:25:21.180 Thread 'MainThread': missing ScriptRunContext! This warning can be ignored when running in bare mode.\n"
     ]
    }
   ],
   "source": [
    "from utils import utils"
   ]
  },
  {
   "cell_type": "code",
   "execution_count": 23,
   "id": "66ea632b",
   "metadata": {},
   "outputs": [
    {
     "data": {
      "text/plain": [
       "'$2b$12$WTeOf9qtDX1xtTO0pJ1WV.GitelYZ0Y8RMYzeYibjv.OMj8bI9D7G'"
      ]
     },
     "execution_count": 23,
     "metadata": {},
     "output_type": "execute_result"
    }
   ],
   "source": [
    "utils.hash_password(passwords[1])"
   ]
  },
  {
   "cell_type": "code",
   "execution_count": 13,
   "id": "b06d272b",
   "metadata": {},
   "outputs": [
    {
     "data": {
      "text/plain": [
       "False"
      ]
     },
     "execution_count": 13,
     "metadata": {},
     "output_type": "execute_result"
    }
   ],
   "source": [
    "utils.check_password(\"admin\", \"passwaord\")"
   ]
  },
  {
   "cell_type": "code",
   "execution_count": 15,
   "id": "7b17e097",
   "metadata": {},
   "outputs": [],
   "source": [
    "def get_ollama_models() -> list:\n",
    "    import ollama\n",
    "    ollama_client = ollama.Client()\n",
    "    llm = ollama_client.list()\n",
    "    model_list:list[str] = [i['model'] for i in llm['models']]\n",
    "    return model_list"
   ]
  },
  {
   "cell_type": "code",
   "execution_count": 16,
   "id": "73665a77",
   "metadata": {},
   "outputs": [
    {
     "data": {
      "text/plain": [
       "['deepseek-r1:8b', 'nomic-embed-text:latest', 'llama3.1:8b']"
      ]
     },
     "execution_count": 16,
     "metadata": {},
     "output_type": "execute_result"
    }
   ],
   "source": [
    "get_ollama_models()"
   ]
  },
  {
   "cell_type": "code",
   "execution_count": 18,
   "id": "6eefbff9",
   "metadata": {},
   "outputs": [],
   "source": [
    "apps = [\n",
    "    {\"name\": \"NextGen OpsMate\",\n",
    "     \"description\": \"The IT Services Incident Response Assistant is an AI-powered app that helps IT support teams quickly resolve incidents. By analyzing incident descriptions, it provides step-by-step instructions, escalation paths, and links to relevant documentation, significantly reducing resolution time.\",\n",
    "     \"page\": \"opsmate.py\",\n",
    "     \"image_icon\": \"opsmate.gif\",\n",
    "     \"access_privilege_role\": [\"user\"],\n",
    "    },\n",
    "    {\"name\": \"Incident Analytics\",\n",
    "     \"description\": \"Incident ticket analytics provide insights into the volume, types, resolution times, and trends of IT support issues. This data helps identify bottlenecks, improve processes, and optimize resource allocation for faster and more efficient problem resolution.\",\n",
    "     \"page\": \"analytics.py\",\n",
    "     \"image_icon\": \"analytics.png\",\n",
    "     \"access_privilege_role\": [\"analyst\"],\n",
    "    },\n",
    "]\n",
    "user_roles = [\"analyst\"]\n",
    "accessible_apps = []"
   ]
  },
  {
   "cell_type": "code",
   "execution_count": 19,
   "id": "192b0387",
   "metadata": {},
   "outputs": [
    {
     "data": {
      "text/plain": [
       "[{'name': 'Incident Analytics',\n",
       "  'description': 'Incident ticket analytics provide insights into the volume, types, resolution times, and trends of IT support issues. This data helps identify bottlenecks, improve processes, and optimize resource allocation for faster and more efficient problem resolution.',\n",
       "  'page': 'analytics.py',\n",
       "  'image_icon': 'analytics.png',\n",
       "  'access_privilege_role': ['analyst']}]"
      ]
     },
     "execution_count": 19,
     "metadata": {},
     "output_type": "execute_result"
    }
   ],
   "source": [
    "for app in apps:\n",
    "    if len(list(set(user_roles).intersection(set(app[\"access_privilege_role\"])))) > 0:\n",
    "        accessible_apps.append(app)\n",
    "\n",
    "accessible_apps\n",
    "        "
   ]
  },
  {
   "cell_type": "code",
   "execution_count": 11,
   "id": "6835af37",
   "metadata": {},
   "outputs": [
    {
     "data": {
      "text/plain": [
       "[{'role': 'user', 'content': 'iser', 'audio': ''},\n",
       " {'role': 'assistant', 'content': 'ass', 'audio': ''}]"
      ]
     },
     "execution_count": 11,
     "metadata": {},
     "output_type": "execute_result"
    }
   ],
   "source": [
    "aa = [{\"role\": \"user\", \"content\": \"iser\", \"audio\": \"\"}, {\"role\": \"assistant\", \"content\": \"ass\", \"audio\": \"\"}]\n",
    "aa"
   ]
  },
  {
   "cell_type": "code",
   "execution_count": 10,
   "id": "dd644d66",
   "metadata": {},
   "outputs": [
    {
     "data": {
      "text/plain": [
       "[{'role': 'user', 'content': 'iser'}, {'role': 'assistant', 'content': 'ass'}]"
      ]
     },
     "execution_count": 10,
     "metadata": {},
     "output_type": "execute_result"
    }
   ],
   "source": [
    "[{key: d[key] for key in [\"role\", \"content\"] if key in d} for d in aa]"
   ]
  },
  {
   "cell_type": "code",
   "execution_count": 20,
   "id": "b1a6889c",
   "metadata": {},
   "outputs": [],
   "source": [
    "from langchain.chat_models import init_chat_model\n",
    "from dotenv import load_dotenv\n",
    "load_dotenv()\n",
    "llm = init_chat_model(model = \"qwen/qwen3-32b\", model_provider = \"groq\")\n",
    "\n",
    "# qwen/qwen3-32b        llama-3.1-8b-instant"
   ]
  },
  {
   "cell_type": "code",
   "execution_count": 23,
   "id": "313893a3",
   "metadata": {},
   "outputs": [
    {
     "name": "stdout",
     "output_type": "stream",
     "text": [
      " | False\n",
      "<think> | False\n",
      "\n",
      " | True\n",
      "Okay | False\n",
      ", | False\n",
      " the | False\n",
      " user | False\n",
      " said | False\n",
      " \" | False\n",
      "hi | False\n",
      "\". | False\n",
      " That | False\n",
      "'s | False\n",
      " a | False\n",
      " greeting | False\n",
      ". | False\n",
      " I | False\n",
      " should | False\n",
      " respond | False\n",
      " in | False\n",
      " a | False\n",
      " friendly | False\n",
      " way | False\n",
      ". | False\n",
      " Maybe | False\n",
      " start | False\n",
      " with | False\n",
      " a | False\n",
      " greeting | False\n",
      " like | False\n",
      " \" | False\n",
      "Hello | False\n",
      "!\" | False\n",
      " or | False\n",
      " \" | False\n",
      "Hi | False\n",
      " there | False\n",
      "!\". | False\n",
      " Then | False\n",
      " offer | False\n",
      " assistance | False\n",
      ". | False\n",
      " Let | False\n",
      " them | False\n",
      " know | False\n",
      " I | False\n",
      "'m | False\n",
      " here | False\n",
      " to | False\n",
      " help | False\n",
      " with | False\n",
      " any | False\n",
      " questions | False\n",
      ". | False\n",
      " Keep | False\n",
      " it | False\n",
      " simple | False\n",
      " and | False\n",
      " welcoming | False\n",
      ". | False\n",
      " Make | False\n",
      " sure | False\n",
      " the | False\n",
      " tone | False\n",
      " is | False\n",
      " positive | False\n",
      " and | False\n",
      " approach | False\n",
      "able | False\n",
      ". | False\n",
      " Don | False\n",
      "'t | False\n",
      " add | False\n",
      " extra | False\n",
      " info | False\n",
      " unless | False\n",
      " needed | False\n",
      ". | False\n",
      " Just | False\n",
      " a | False\n",
      " standard | False\n",
      " friendly | False\n",
      " response | False\n",
      ".\n",
      " | True\n",
      "</think> | False\n",
      "\n",
      "\n",
      " | True\n",
      "Hello | False\n",
      "! | False\n",
      " How | False\n",
      " can | False\n",
      " I | False\n",
      " assist | False\n",
      " you | False\n",
      " today | False\n",
      "? | False\n",
      " 😊 | False\n",
      " | False\n"
     ]
    }
   ],
   "source": [
    "for chunk in llm.stream(\"hi\"):\n",
    "    print(chunk.content, \"|\", \"\\n\" in chunk.content)"
   ]
  },
  {
   "cell_type": "code",
   "execution_count": 25,
   "id": "67e298af",
   "metadata": {},
   "outputs": [
    {
     "name": "stdout",
     "output_type": "stream",
     "text": [
      "content='' additional_kwargs={} response_metadata={} id='run--e908644c-53a3-4f4c-9630-1e9abda2f506'\n",
      "content='<think>' additional_kwargs={} response_metadata={} id='run--e908644c-53a3-4f4c-9630-1e9abda2f506'\n",
      "content='\\n' additional_kwargs={} response_metadata={} id='run--e908644c-53a3-4f4c-9630-1e9abda2f506'\n",
      "content='Okay' additional_kwargs={} response_metadata={} id='run--e908644c-53a3-4f4c-9630-1e9abda2f506'\n",
      "content=',' additional_kwargs={} response_metadata={} id='run--e908644c-53a3-4f4c-9630-1e9abda2f506'\n",
      "content=' the' additional_kwargs={} response_metadata={} id='run--e908644c-53a3-4f4c-9630-1e9abda2f506'\n",
      "content=' user' additional_kwargs={} response_metadata={} id='run--e908644c-53a3-4f4c-9630-1e9abda2f506'\n",
      "content=' wants' additional_kwargs={} response_metadata={} id='run--e908644c-53a3-4f4c-9630-1e9abda2f506'\n",
      "content=' a' additional_kwargs={} response_metadata={} id='run--e908644c-53a3-4f4c-9630-1e9abda2f506'\n",
      "content=' very' additional_kwargs={} response_metadata={} id='run--e908644c-53a3-4f4c-9630-1e9abda2f506'\n",
      "content=' short' additional_kwargs={} response_metadata={} id='run--e908644c-53a3-4f4c-9630-1e9abda2f506'\n",
      "content=' story' additional_kwargs={} response_metadata={} id='run--e908644c-53a3-4f4c-9630-1e9abda2f506'\n",
      "content='.' additional_kwargs={} response_metadata={} id='run--e908644c-53a3-4f4c-9630-1e9abda2f506'\n",
      "content=' Let' additional_kwargs={} response_metadata={} id='run--e908644c-53a3-4f4c-9630-1e9abda2f506'\n",
      "content=' me' additional_kwargs={} response_metadata={} id='run--e908644c-53a3-4f4c-9630-1e9abda2f506'\n",
      "content=' think' additional_kwargs={} response_metadata={} id='run--e908644c-53a3-4f4c-9630-1e9abda2f506'\n",
      "content=' about' additional_kwargs={} response_metadata={} id='run--e908644c-53a3-4f4c-9630-1e9abda2f506'\n",
      "content=' what' additional_kwargs={} response_metadata={} id='run--e908644c-53a3-4f4c-9630-1e9abda2f506'\n",
      "content=' makes' additional_kwargs={} response_metadata={} id='run--e908644c-53a3-4f4c-9630-1e9abda2f506'\n",
      "content=' a' additional_kwargs={} response_metadata={} id='run--e908644c-53a3-4f4c-9630-1e9abda2f506'\n",
      "content=' good' additional_kwargs={} response_metadata={} id='run--e908644c-53a3-4f4c-9630-1e9abda2f506'\n",
      "content=' short' additional_kwargs={} response_metadata={} id='run--e908644c-53a3-4f4c-9630-1e9abda2f506'\n",
      "content=' story' additional_kwargs={} response_metadata={} id='run--e908644c-53a3-4f4c-9630-1e9abda2f506'\n",
      "content='.' additional_kwargs={} response_metadata={} id='run--e908644c-53a3-4f4c-9630-1e9abda2f506'\n",
      "content=' It' additional_kwargs={} response_metadata={} id='run--e908644c-53a3-4f4c-9630-1e9abda2f506'\n",
      "content=' needs' additional_kwargs={} response_metadata={} id='run--e908644c-53a3-4f4c-9630-1e9abda2f506'\n",
      "content=' a' additional_kwargs={} response_metadata={} id='run--e908644c-53a3-4f4c-9630-1e9abda2f506'\n",
      "content=' clear' additional_kwargs={} response_metadata={} id='run--e908644c-53a3-4f4c-9630-1e9abda2f506'\n",
      "content=' beginning' additional_kwargs={} response_metadata={} id='run--e908644c-53a3-4f4c-9630-1e9abda2f506'\n",
      "content=',' additional_kwargs={} response_metadata={} id='run--e908644c-53a3-4f4c-9630-1e9abda2f506'\n",
      "content=' middle' additional_kwargs={} response_metadata={} id='run--e908644c-53a3-4f4c-9630-1e9abda2f506'\n",
      "content=',' additional_kwargs={} response_metadata={} id='run--e908644c-53a3-4f4c-9630-1e9abda2f506'\n",
      "content=' and' additional_kwargs={} response_metadata={} id='run--e908644c-53a3-4f4c-9630-1e9abda2f506'\n",
      "content=' end' additional_kwargs={} response_metadata={} id='run--e908644c-53a3-4f4c-9630-1e9abda2f506'\n",
      "content=',' additional_kwargs={} response_metadata={} id='run--e908644c-53a3-4f4c-9630-1e9abda2f506'\n",
      "content=' but' additional_kwargs={} response_metadata={} id='run--e908644c-53a3-4f4c-9630-1e9abda2f506'\n",
      "content=' concise' additional_kwargs={} response_metadata={} id='run--e908644c-53a3-4f4c-9630-1e9abda2f506'\n",
      "content='.' additional_kwargs={} response_metadata={} id='run--e908644c-53a3-4f4c-9630-1e9abda2f506'\n",
      "content=' Maybe' additional_kwargs={} response_metadata={} id='run--e908644c-53a3-4f4c-9630-1e9abda2f506'\n",
      "content=' a' additional_kwargs={} response_metadata={} id='run--e908644c-53a3-4f4c-9630-1e9abda2f506'\n",
      "content=' simple' additional_kwargs={} response_metadata={} id='run--e908644c-53a3-4f4c-9630-1e9abda2f506'\n",
      "content=' conflict' additional_kwargs={} response_metadata={} id='run--e908644c-53a3-4f4c-9630-1e9abda2f506'\n",
      "content=' and' additional_kwargs={} response_metadata={} id='run--e908644c-53a3-4f4c-9630-1e9abda2f506'\n",
      "content=' resolution' additional_kwargs={} response_metadata={} id='run--e908644c-53a3-4f4c-9630-1e9abda2f506'\n",
      "content='.\\n\\n' additional_kwargs={} response_metadata={} id='run--e908644c-53a3-4f4c-9630-1e9abda2f506'\n",
      "content='Themes' additional_kwargs={} response_metadata={} id='run--e908644c-53a3-4f4c-9630-1e9abda2f506'\n",
      "content='?' additional_kwargs={} response_metadata={} id='run--e908644c-53a3-4f4c-9630-1e9abda2f506'\n",
      "content=' Maybe' additional_kwargs={} response_metadata={} id='run--e908644c-53a3-4f4c-9630-1e9abda2f506'\n",
      "content=' something' additional_kwargs={} response_metadata={} id='run--e908644c-53a3-4f4c-9630-1e9abda2f506'\n",
      "content=' rel' additional_kwargs={} response_metadata={} id='run--e908644c-53a3-4f4c-9630-1e9abda2f506'\n",
      "content='atable' additional_kwargs={} response_metadata={} id='run--e908644c-53a3-4f4c-9630-1e9abda2f506'\n",
      "content=',' additional_kwargs={} response_metadata={} id='run--e908644c-53a3-4f4c-9630-1e9abda2f506'\n",
      "content=' like' additional_kwargs={} response_metadata={} id='run--e908644c-53a3-4f4c-9630-1e9abda2f506'\n",
      "content=' a' additional_kwargs={} response_metadata={} id='run--e908644c-53a3-4f4c-9630-1e9abda2f506'\n",
      "content=' small' additional_kwargs={} response_metadata={} id='run--e908644c-53a3-4f4c-9630-1e9abda2f506'\n",
      "content=' problem' additional_kwargs={} response_metadata={} id='run--e908644c-53a3-4f4c-9630-1e9abda2f506'\n",
      "content=' leading' additional_kwargs={} response_metadata={} id='run--e908644c-53a3-4f4c-9630-1e9abda2f506'\n",
      "content=' to' additional_kwargs={} response_metadata={} id='run--e908644c-53a3-4f4c-9630-1e9abda2f506'\n",
      "content=' an' additional_kwargs={} response_metadata={} id='run--e908644c-53a3-4f4c-9630-1e9abda2f506'\n",
      "content=' unexpected' additional_kwargs={} response_metadata={} id='run--e908644c-53a3-4f4c-9630-1e9abda2f506'\n",
      "content=' solution' additional_kwargs={} response_metadata={} id='run--e908644c-53a3-4f4c-9630-1e9abda2f506'\n",
      "content='.' additional_kwargs={} response_metadata={} id='run--e908644c-53a3-4f4c-9630-1e9abda2f506'\n",
      "content=' Or' additional_kwargs={} response_metadata={} id='run--e908644c-53a3-4f4c-9630-1e9abda2f506'\n",
      "content=' a' additional_kwargs={} response_metadata={} id='run--e908644c-53a3-4f4c-9630-1e9abda2f506'\n",
      "content=' twist' additional_kwargs={} response_metadata={} id='run--e908644c-53a3-4f4c-9630-1e9abda2f506'\n",
      "content=' at' additional_kwargs={} response_metadata={} id='run--e908644c-53a3-4f4c-9630-1e9abda2f506'\n",
      "content=' the' additional_kwargs={} response_metadata={} id='run--e908644c-53a3-4f4c-9630-1e9abda2f506'\n",
      "content=' end' additional_kwargs={} response_metadata={} id='run--e908644c-53a3-4f4c-9630-1e9abda2f506'\n",
      "content='.' additional_kwargs={} response_metadata={} id='run--e908644c-53a3-4f4c-9630-1e9abda2f506'\n",
      "content=' Let' additional_kwargs={} response_metadata={} id='run--e908644c-53a3-4f4c-9630-1e9abda2f506'\n",
      "content=' me' additional_kwargs={} response_metadata={} id='run--e908644c-53a3-4f4c-9630-1e9abda2f506'\n",
      "content=' brainstorm' additional_kwargs={} response_metadata={} id='run--e908644c-53a3-4f4c-9630-1e9abda2f506'\n",
      "content=' some' additional_kwargs={} response_metadata={} id='run--e908644c-53a3-4f4c-9630-1e9abda2f506'\n",
      "content=' ideas' additional_kwargs={} response_metadata={} id='run--e908644c-53a3-4f4c-9630-1e9abda2f506'\n",
      "content='.\\n\\n' additional_kwargs={} response_metadata={} id='run--e908644c-53a3-4f4c-9630-1e9abda2f506'\n",
      "content='How' additional_kwargs={} response_metadata={} id='run--e908644c-53a3-4f4c-9630-1e9abda2f506'\n",
      "content=' about' additional_kwargs={} response_metadata={} id='run--e908644c-53a3-4f4c-9630-1e9abda2f506'\n",
      "content=' a' additional_kwargs={} response_metadata={} id='run--e908644c-53a3-4f4c-9630-1e9abda2f506'\n",
      "content=' character' additional_kwargs={} response_metadata={} id='run--e908644c-53a3-4f4c-9630-1e9abda2f506'\n",
      "content=' facing' additional_kwargs={} response_metadata={} id='run--e908644c-53a3-4f4c-9630-1e9abda2f506'\n",
      "content=' a' additional_kwargs={} response_metadata={} id='run--e908644c-53a3-4f4c-9630-1e9abda2f506'\n",
      "content=' problem' additional_kwargs={} response_metadata={} id='run--e908644c-53a3-4f4c-9630-1e9abda2f506'\n",
      "content='?' additional_kwargs={} response_metadata={} id='run--e908644c-53a3-4f4c-9630-1e9abda2f506'\n",
      "content=' Maybe' additional_kwargs={} response_metadata={} id='run--e908644c-53a3-4f4c-9630-1e9abda2f506'\n",
      "content=' a' additional_kwargs={} response_metadata={} id='run--e908644c-53a3-4f4c-9630-1e9abda2f506'\n",
      "content=' child' additional_kwargs={} response_metadata={} id='run--e908644c-53a3-4f4c-9630-1e9abda2f506'\n",
      "content=' and' additional_kwargs={} response_metadata={} id='run--e908644c-53a3-4f4c-9630-1e9abda2f506'\n",
      "content=' a' additional_kwargs={} response_metadata={} id='run--e908644c-53a3-4f4c-9630-1e9abda2f506'\n",
      "content=' lost' additional_kwargs={} response_metadata={} id='run--e908644c-53a3-4f4c-9630-1e9abda2f506'\n",
      "content=' toy' additional_kwargs={} response_metadata={} id='run--e908644c-53a3-4f4c-9630-1e9abda2f506'\n",
      "content='?' additional_kwargs={} response_metadata={} id='run--e908644c-53a3-4f4c-9630-1e9abda2f506'\n",
      "content=' No' additional_kwargs={} response_metadata={} id='run--e908644c-53a3-4f4c-9630-1e9abda2f506'\n",
      "content=',' additional_kwargs={} response_metadata={} id='run--e908644c-53a3-4f4c-9630-1e9abda2f506'\n",
      "content=' too' additional_kwargs={} response_metadata={} id='run--e908644c-53a3-4f4c-9630-1e9abda2f506'\n",
      "content=' clich' additional_kwargs={} response_metadata={} id='run--e908644c-53a3-4f4c-9630-1e9abda2f506'\n",
      "content='é' additional_kwargs={} response_metadata={} id='run--e908644c-53a3-4f4c-9630-1e9abda2f506'\n",
      "content='.' additional_kwargs={} response_metadata={} id='run--e908644c-53a3-4f4c-9630-1e9abda2f506'\n",
      "content=' Maybe' additional_kwargs={} response_metadata={} id='run--e908644c-53a3-4f4c-9630-1e9abda2f506'\n",
      "content=' something' additional_kwargs={} response_metadata={} id='run--e908644c-53a3-4f4c-9630-1e9abda2f506'\n",
      "content=' with' additional_kwargs={} response_metadata={} id='run--e908644c-53a3-4f4c-9630-1e9abda2f506'\n",
      "content=' a' additional_kwargs={} response_metadata={} id='run--e908644c-53a3-4f4c-9630-1e9abda2f506'\n",
      "content=' unique' additional_kwargs={} response_metadata={} id='run--e908644c-53a3-4f4c-9630-1e9abda2f506'\n",
      "content=' element' additional_kwargs={} response_metadata={} id='run--e908644c-53a3-4f4c-9630-1e9abda2f506'\n",
      "content=',' additional_kwargs={} response_metadata={} id='run--e908644c-53a3-4f4c-9630-1e9abda2f506'\n",
      "content=' like' additional_kwargs={} response_metadata={} id='run--e908644c-53a3-4f4c-9630-1e9abda2f506'\n",
      "content=' a' additional_kwargs={} response_metadata={} id='run--e908644c-53a3-4f4c-9630-1e9abda2f506'\n",
      "content=' magical' additional_kwargs={} response_metadata={} id='run--e908644c-53a3-4f4c-9630-1e9abda2f506'\n",
      "content=' item' additional_kwargs={} response_metadata={} id='run--e908644c-53a3-4f4c-9630-1e9abda2f506'\n",
      "content='?' additional_kwargs={} response_metadata={} id='run--e908644c-53a3-4f4c-9630-1e9abda2f506'\n",
      "content=' Hmm' additional_kwargs={} response_metadata={} id='run--e908644c-53a3-4f4c-9630-1e9abda2f506'\n",
      "content='.\\n\\n' additional_kwargs={} response_metadata={} id='run--e908644c-53a3-4f4c-9630-1e9abda2f506'\n",
      "content='Wait' additional_kwargs={} response_metadata={} id='run--e908644c-53a3-4f4c-9630-1e9abda2f506'\n",
      "content=',' additional_kwargs={} response_metadata={} id='run--e908644c-53a3-4f4c-9630-1e9abda2f506'\n",
      "content=' the' additional_kwargs={} response_metadata={} id='run--e908644c-53a3-4f4c-9630-1e9abda2f506'\n",
      "content=' user' additional_kwargs={} response_metadata={} id='run--e908644c-53a3-4f4c-9630-1e9abda2f506'\n",
      "content=' might' additional_kwargs={} response_metadata={} id='run--e908644c-53a3-4f4c-9630-1e9abda2f506'\n",
      "content=' appreciate' additional_kwargs={} response_metadata={} id='run--e908644c-53a3-4f4c-9630-1e9abda2f506'\n",
      "content=' a' additional_kwargs={} response_metadata={} id='run--e908644c-53a3-4f4c-9630-1e9abda2f506'\n",
      "content=' touch' additional_kwargs={} response_metadata={} id='run--e908644c-53a3-4f4c-9630-1e9abda2f506'\n",
      "content=' of' additional_kwargs={} response_metadata={} id='run--e908644c-53a3-4f4c-9630-1e9abda2f506'\n",
      "content=' fantasy' additional_kwargs={} response_metadata={} id='run--e908644c-53a3-4f4c-9630-1e9abda2f506'\n",
      "content=' but' additional_kwargs={} response_metadata={} id='run--e908644c-53a3-4f4c-9630-1e9abda2f506'\n",
      "content=' still' additional_kwargs={} response_metadata={} id='run--e908644c-53a3-4f4c-9630-1e9abda2f506'\n",
      "content=' grounded' additional_kwargs={} response_metadata={} id='run--e908644c-53a3-4f4c-9630-1e9abda2f506'\n",
      "content='.' additional_kwargs={} response_metadata={} id='run--e908644c-53a3-4f4c-9630-1e9abda2f506'\n",
      "content=' Maybe' additional_kwargs={} response_metadata={} id='run--e908644c-53a3-4f4c-9630-1e9abda2f506'\n",
      "content=' a' additional_kwargs={} response_metadata={} id='run--e908644c-53a3-4f4c-9630-1e9abda2f506'\n",
      "content=' person' additional_kwargs={} response_metadata={} id='run--e908644c-53a3-4f4c-9630-1e9abda2f506'\n",
      "content=' finding' additional_kwargs={} response_metadata={} id='run--e908644c-53a3-4f4c-9630-1e9abda2f506'\n",
      "content=' something' additional_kwargs={} response_metadata={} id='run--e908644c-53a3-4f4c-9630-1e9abda2f506'\n",
      "content=' unexpected' additional_kwargs={} response_metadata={} id='run--e908644c-53a3-4f4c-9630-1e9abda2f506'\n",
      "content='.' additional_kwargs={} response_metadata={} id='run--e908644c-53a3-4f4c-9630-1e9abda2f506'\n",
      "content=' Let' additional_kwargs={} response_metadata={} id='run--e908644c-53a3-4f4c-9630-1e9abda2f506'\n",
      "content=' me' additional_kwargs={} response_metadata={} id='run--e908644c-53a3-4f4c-9630-1e9abda2f506'\n",
      "content=' try' additional_kwargs={} response_metadata={} id='run--e908644c-53a3-4f4c-9630-1e9abda2f506'\n",
      "content=' this' additional_kwargs={} response_metadata={} id='run--e908644c-53a3-4f4c-9630-1e9abda2f506'\n",
      "content=':' additional_kwargs={} response_metadata={} id='run--e908644c-53a3-4f4c-9630-1e9abda2f506'\n",
      "content=' a' additional_kwargs={} response_metadata={} id='run--e908644c-53a3-4f4c-9630-1e9abda2f506'\n",
      "content=' person' additional_kwargs={} response_metadata={} id='run--e908644c-53a3-4f4c-9630-1e9abda2f506'\n",
      "content=' finds' additional_kwargs={} response_metadata={} id='run--e908644c-53a3-4f4c-9630-1e9abda2f506'\n",
      "content=' a' additional_kwargs={} response_metadata={} id='run--e908644c-53a3-4f4c-9630-1e9abda2f506'\n",
      "content=' key' additional_kwargs={} response_metadata={} id='run--e908644c-53a3-4f4c-9630-1e9abda2f506'\n",
      "content=',' additional_kwargs={} response_metadata={} id='run--e908644c-53a3-4f4c-9630-1e9abda2f506'\n",
      "content=' uses' additional_kwargs={} response_metadata={} id='run--e908644c-53a3-4f4c-9630-1e9abda2f506'\n",
      "content=' it' additional_kwargs={} response_metadata={} id='run--e908644c-53a3-4f4c-9630-1e9abda2f506'\n",
      "content=' to' additional_kwargs={} response_metadata={} id='run--e908644c-53a3-4f4c-9630-1e9abda2f506'\n",
      "content=' open' additional_kwargs={} response_metadata={} id='run--e908644c-53a3-4f4c-9630-1e9abda2f506'\n",
      "content=' a' additional_kwargs={} response_metadata={} id='run--e908644c-53a3-4f4c-9630-1e9abda2f506'\n",
      "content=' door' additional_kwargs={} response_metadata={} id='run--e908644c-53a3-4f4c-9630-1e9abda2f506'\n",
      "content=',' additional_kwargs={} response_metadata={} id='run--e908644c-53a3-4f4c-9630-1e9abda2f506'\n",
      "content=' discovers' additional_kwargs={} response_metadata={} id='run--e908644c-53a3-4f4c-9630-1e9abda2f506'\n",
      "content=' something' additional_kwargs={} response_metadata={} id='run--e908644c-53a3-4f4c-9630-1e9abda2f506'\n",
      "content=' surprising' additional_kwargs={} response_metadata={} id='run--e908644c-53a3-4f4c-9630-1e9abda2f506'\n",
      "content='.' additional_kwargs={} response_metadata={} id='run--e908644c-53a3-4f4c-9630-1e9abda2f506'\n",
      "content=' But' additional_kwargs={} response_metadata={} id='run--e908644c-53a3-4f4c-9630-1e9abda2f506'\n",
      "content=' how' additional_kwargs={} response_metadata={} id='run--e908644c-53a3-4f4c-9630-1e9abda2f506'\n",
      "content=' to' additional_kwargs={} response_metadata={} id='run--e908644c-53a3-4f4c-9630-1e9abda2f506'\n",
      "content=' make' additional_kwargs={} response_metadata={} id='run--e908644c-53a3-4f4c-9630-1e9abda2f506'\n",
      "content=' it' additional_kwargs={} response_metadata={} id='run--e908644c-53a3-4f4c-9630-1e9abda2f506'\n",
      "content=' very' additional_kwargs={} response_metadata={} id='run--e908644c-53a3-4f4c-9630-1e9abda2f506'\n",
      "content=' short' additional_kwargs={} response_metadata={} id='run--e908644c-53a3-4f4c-9630-1e9abda2f506'\n",
      "content='?\\n\\n' additional_kwargs={} response_metadata={} id='run--e908644c-53a3-4f4c-9630-1e9abda2f506'\n",
      "content='Let' additional_kwargs={} response_metadata={} id='run--e908644c-53a3-4f4c-9630-1e9abda2f506'\n",
      "content=' me' additional_kwargs={} response_metadata={} id='run--e908644c-53a3-4f4c-9630-1e9abda2f506'\n",
      "content=' outline' additional_kwargs={} response_metadata={} id='run--e908644c-53a3-4f4c-9630-1e9abda2f506'\n",
      "content=':' additional_kwargs={} response_metadata={} id='run--e908644c-53a3-4f4c-9630-1e9abda2f506'\n",
      "content=' Pro' additional_kwargs={} response_metadata={} id='run--e908644c-53a3-4f4c-9630-1e9abda2f506'\n",
      "content='tag' additional_kwargs={} response_metadata={} id='run--e908644c-53a3-4f4c-9630-1e9abda2f506'\n",
      "content='on' additional_kwargs={} response_metadata={} id='run--e908644c-53a3-4f4c-9630-1e9abda2f506'\n",
      "content='ist' additional_kwargs={} response_metadata={} id='run--e908644c-53a3-4f4c-9630-1e9abda2f506'\n",
      "content=' finds' additional_kwargs={} response_metadata={} id='run--e908644c-53a3-4f4c-9630-1e9abda2f506'\n",
      "content=' a' additional_kwargs={} response_metadata={} id='run--e908644c-53a3-4f4c-9630-1e9abda2f506'\n",
      "content=' key' additional_kwargs={} response_metadata={} id='run--e908644c-53a3-4f4c-9630-1e9abda2f506'\n",
      "content=',' additional_kwargs={} response_metadata={} id='run--e908644c-53a3-4f4c-9630-1e9abda2f506'\n",
      "content=' goes' additional_kwargs={} response_metadata={} id='run--e908644c-53a3-4f4c-9630-1e9abda2f506'\n",
      "content=' in' additional_kwargs={} response_metadata={} id='run--e908644c-53a3-4f4c-9630-1e9abda2f506'\n",
      "content=' a' additional_kwargs={} response_metadata={} id='run--e908644c-53a3-4f4c-9630-1e9abda2f506'\n",
      "content=' door' additional_kwargs={} response_metadata={} id='run--e908644c-53a3-4f4c-9630-1e9abda2f506'\n",
      "content=',' additional_kwargs={} response_metadata={} id='run--e908644c-53a3-4f4c-9630-1e9abda2f506'\n",
      "content=' discovers' additional_kwargs={} response_metadata={} id='run--e908644c-53a3-4f4c-9630-1e9abda2f506'\n",
      "content=' a' additional_kwargs={} response_metadata={} id='run--e908644c-53a3-4f4c-9630-1e9abda2f506'\n",
      "content=' tree' additional_kwargs={} response_metadata={} id='run--e908644c-53a3-4f4c-9630-1e9abda2f506'\n",
      "content=' with' additional_kwargs={} response_metadata={} id='run--e908644c-53a3-4f4c-9630-1e9abda2f506'\n",
      "content=' changing' additional_kwargs={} response_metadata={} id='run--e908644c-53a3-4f4c-9630-1e9abda2f506'\n",
      "content=' leaves' additional_kwargs={} response_metadata={} id='run--e908644c-53a3-4f4c-9630-1e9abda2f506'\n",
      "content='.' additional_kwargs={} response_metadata={} id='run--e908644c-53a3-4f4c-9630-1e9abda2f506'\n",
      "content=' Each' additional_kwargs={} response_metadata={} id='run--e908644c-53a3-4f4c-9630-1e9abda2f506'\n",
      "content=' leaf' additional_kwargs={} response_metadata={} id='run--e908644c-53a3-4f4c-9630-1e9abda2f506'\n",
      "content=' is' additional_kwargs={} response_metadata={} id='run--e908644c-53a3-4f4c-9630-1e9abda2f506'\n",
      "content=' a' additional_kwargs={} response_metadata={} id='run--e908644c-53a3-4f4c-9630-1e9abda2f506'\n",
      "content=' memory' additional_kwargs={} response_metadata={} id='run--e908644c-53a3-4f4c-9630-1e9abda2f506'\n",
      "content='.' additional_kwargs={} response_metadata={} id='run--e908644c-53a3-4f4c-9630-1e9abda2f506'\n",
      "content=' Ends' additional_kwargs={} response_metadata={} id='run--e908644c-53a3-4f4c-9630-1e9abda2f506'\n",
      "content=' with' additional_kwargs={} response_metadata={} id='run--e908644c-53a3-4f4c-9630-1e9abda2f506'\n",
      "content=' them' additional_kwargs={} response_metadata={} id='run--e908644c-53a3-4f4c-9630-1e9abda2f506'\n",
      "content=' finding' additional_kwargs={} response_metadata={} id='run--e908644c-53a3-4f4c-9630-1e9abda2f506'\n",
      "content=' their' additional_kwargs={} response_metadata={} id='run--e908644c-53a3-4f4c-9630-1e9abda2f506'\n",
      "content=' own' additional_kwargs={} response_metadata={} id='run--e908644c-53a3-4f4c-9630-1e9abda2f506'\n",
      "content=' leaf' additional_kwargs={} response_metadata={} id='run--e908644c-53a3-4f4c-9630-1e9abda2f506'\n",
      "content='.' additional_kwargs={} response_metadata={} id='run--e908644c-53a3-4f4c-9630-1e9abda2f506'\n",
      "content=' That' additional_kwargs={} response_metadata={} id='run--e908644c-53a3-4f4c-9630-1e9abda2f506'\n",
      "content=\"'s\" additional_kwargs={} response_metadata={} id='run--e908644c-53a3-4f4c-9630-1e9abda2f506'\n",
      "content=' a' additional_kwargs={} response_metadata={} id='run--e908644c-53a3-4f4c-9630-1e9abda2f506'\n",
      "content=' nice' additional_kwargs={} response_metadata={} id='run--e908644c-53a3-4f4c-9630-1e9abda2f506'\n",
      "content=',' additional_kwargs={} response_metadata={} id='run--e908644c-53a3-4f4c-9630-1e9abda2f506'\n",
      "content=' intros' additional_kwargs={} response_metadata={} id='run--e908644c-53a3-4f4c-9630-1e9abda2f506'\n",
      "content='pective' additional_kwargs={} response_metadata={} id='run--e908644c-53a3-4f4c-9630-1e9abda2f506'\n",
      "content=' ending' additional_kwargs={} response_metadata={} id='run--e908644c-53a3-4f4c-9630-1e9abda2f506'\n",
      "content='.' additional_kwargs={} response_metadata={} id='run--e908644c-53a3-4f4c-9630-1e9abda2f506'\n",
      "content=' Keep' additional_kwargs={} response_metadata={} id='run--e908644c-53a3-4f4c-9630-1e9abda2f506'\n",
      "content=' sentences' additional_kwargs={} response_metadata={} id='run--e908644c-53a3-4f4c-9630-1e9abda2f506'\n",
      "content=' short' additional_kwargs={} response_metadata={} id='run--e908644c-53a3-4f4c-9630-1e9abda2f506'\n",
      "content='.' additional_kwargs={} response_metadata={} id='run--e908644c-53a3-4f4c-9630-1e9abda2f506'\n",
      "content=' Let' additional_kwargs={} response_metadata={} id='run--e908644c-53a3-4f4c-9630-1e9abda2f506'\n",
      "content=' me' additional_kwargs={} response_metadata={} id='run--e908644c-53a3-4f4c-9630-1e9abda2f506'\n",
      "content=' check' additional_kwargs={} response_metadata={} id='run--e908644c-53a3-4f4c-9630-1e9abda2f506'\n",
      "content=' the' additional_kwargs={} response_metadata={} id='run--e908644c-53a3-4f4c-9630-1e9abda2f506'\n",
      "content=' word' additional_kwargs={} response_metadata={} id='run--e908644c-53a3-4f4c-9630-1e9abda2f506'\n",
      "content=' count' additional_kwargs={} response_metadata={} id='run--e908644c-53a3-4f4c-9630-1e9abda2f506'\n",
      "content='.' additional_kwargs={} response_metadata={} id='run--e908644c-53a3-4f4c-9630-1e9abda2f506'\n",
      "content=' Need' additional_kwargs={} response_metadata={} id='run--e908644c-53a3-4f4c-9630-1e9abda2f506'\n",
      "content=' to' additional_kwargs={} response_metadata={} id='run--e908644c-53a3-4f4c-9630-1e9abda2f506'\n",
      "content=' make' additional_kwargs={} response_metadata={} id='run--e908644c-53a3-4f4c-9630-1e9abda2f506'\n",
      "content=' sure' additional_kwargs={} response_metadata={} id='run--e908644c-53a3-4f4c-9630-1e9abda2f506'\n",
      "content=' it' additional_kwargs={} response_metadata={} id='run--e908644c-53a3-4f4c-9630-1e9abda2f506'\n",
      "content=\"'s\" additional_kwargs={} response_metadata={} id='run--e908644c-53a3-4f4c-9630-1e9abda2f506'\n",
      "content=' under' additional_kwargs={} response_metadata={} id='run--e908644c-53a3-4f4c-9630-1e9abda2f506'\n",
      "content=' ' additional_kwargs={} response_metadata={} id='run--e908644c-53a3-4f4c-9630-1e9abda2f506'\n",
      "content='1' additional_kwargs={} response_metadata={} id='run--e908644c-53a3-4f4c-9630-1e9abda2f506'\n",
      "content='0' additional_kwargs={} response_metadata={} id='run--e908644c-53a3-4f4c-9630-1e9abda2f506'\n",
      "content='0' additional_kwargs={} response_metadata={} id='run--e908644c-53a3-4f4c-9630-1e9abda2f506'\n",
      "content=' words' additional_kwargs={} response_metadata={} id='run--e908644c-53a3-4f4c-9630-1e9abda2f506'\n",
      "content='.' additional_kwargs={} response_metadata={} id='run--e908644c-53a3-4f4c-9630-1e9abda2f506'\n",
      "content=' Let' additional_kwargs={} response_metadata={} id='run--e908644c-53a3-4f4c-9630-1e9abda2f506'\n",
      "content=' me' additional_kwargs={} response_metadata={} id='run--e908644c-53a3-4f4c-9630-1e9abda2f506'\n",
      "content=' count' additional_kwargs={} response_metadata={} id='run--e908644c-53a3-4f4c-9630-1e9abda2f506'\n",
      "content='.' additional_kwargs={} response_metadata={} id='run--e908644c-53a3-4f4c-9630-1e9abda2f506'\n",
      "content=' Yes' additional_kwargs={} response_metadata={} id='run--e908644c-53a3-4f4c-9630-1e9abda2f506'\n",
      "content=',' additional_kwargs={} response_metadata={} id='run--e908644c-53a3-4f4c-9630-1e9abda2f506'\n",
      "content=' that' additional_kwargs={} response_metadata={} id='run--e908644c-53a3-4f4c-9630-1e9abda2f506'\n",
      "content=' should' additional_kwargs={} response_metadata={} id='run--e908644c-53a3-4f4c-9630-1e9abda2f506'\n",
      "content=' work' additional_kwargs={} response_metadata={} id='run--e908644c-53a3-4f4c-9630-1e9abda2f506'\n",
      "content='.' additional_kwargs={} response_metadata={} id='run--e908644c-53a3-4f4c-9630-1e9abda2f506'\n",
      "content=' Make' additional_kwargs={} response_metadata={} id='run--e908644c-53a3-4f4c-9630-1e9abda2f506'\n",
      "content=' sure' additional_kwargs={} response_metadata={} id='run--e908644c-53a3-4f4c-9630-1e9abda2f506'\n",
      "content=' the' additional_kwargs={} response_metadata={} id='run--e908644c-53a3-4f4c-9630-1e9abda2f506'\n",
      "content=' language' additional_kwargs={} response_metadata={} id='run--e908644c-53a3-4f4c-9630-1e9abda2f506'\n",
      "content=' is' additional_kwargs={} response_metadata={} id='run--e908644c-53a3-4f4c-9630-1e9abda2f506'\n",
      "content=' vivid' additional_kwargs={} response_metadata={} id='run--e908644c-53a3-4f4c-9630-1e9abda2f506'\n",
      "content=' but' additional_kwargs={} response_metadata={} id='run--e908644c-53a3-4f4c-9630-1e9abda2f506'\n",
      "content=' concise' additional_kwargs={} response_metadata={} id='run--e908644c-53a3-4f4c-9630-1e9abda2f506'\n",
      "content='.' additional_kwargs={} response_metadata={} id='run--e908644c-53a3-4f4c-9630-1e9abda2f506'\n",
      "content=' Avoid' additional_kwargs={} response_metadata={} id='run--e908644c-53a3-4f4c-9630-1e9abda2f506'\n",
      "content=' unnecessary' additional_kwargs={} response_metadata={} id='run--e908644c-53a3-4f4c-9630-1e9abda2f506'\n",
      "content=' details' additional_kwargs={} response_metadata={} id='run--e908644c-53a3-4f4c-9630-1e9abda2f506'\n",
      "content='.' additional_kwargs={} response_metadata={} id='run--e908644c-53a3-4f4c-9630-1e9abda2f506'\n",
      "content=' Focus' additional_kwargs={} response_metadata={} id='run--e908644c-53a3-4f4c-9630-1e9abda2f506'\n",
      "content=' on' additional_kwargs={} response_metadata={} id='run--e908644c-53a3-4f4c-9630-1e9abda2f506'\n",
      "content=' the' additional_kwargs={} response_metadata={} id='run--e908644c-53a3-4f4c-9630-1e9abda2f506'\n",
      "content=' key' additional_kwargs={} response_metadata={} id='run--e908644c-53a3-4f4c-9630-1e9abda2f506'\n",
      "content=' elements' additional_kwargs={} response_metadata={} id='run--e908644c-53a3-4f4c-9630-1e9abda2f506'\n",
      "content=':' additional_kwargs={} response_metadata={} id='run--e908644c-53a3-4f4c-9630-1e9abda2f506'\n",
      "content=' key' additional_kwargs={} response_metadata={} id='run--e908644c-53a3-4f4c-9630-1e9abda2f506'\n",
      "content=',' additional_kwargs={} response_metadata={} id='run--e908644c-53a3-4f4c-9630-1e9abda2f506'\n",
      "content=' door' additional_kwargs={} response_metadata={} id='run--e908644c-53a3-4f4c-9630-1e9abda2f506'\n",
      "content=',' additional_kwargs={} response_metadata={} id='run--e908644c-53a3-4f4c-9630-1e9abda2f506'\n",
      "content=' tree' additional_kwargs={} response_metadata={} id='run--e908644c-53a3-4f4c-9630-1e9abda2f506'\n",
      "content=',' additional_kwargs={} response_metadata={} id='run--e908644c-53a3-4f4c-9630-1e9abda2f506'\n",
      "content=' memories' additional_kwargs={} response_metadata={} id='run--e908644c-53a3-4f4c-9630-1e9abda2f506'\n",
      "content=',' additional_kwargs={} response_metadata={} id='run--e908644c-53a3-4f4c-9630-1e9abda2f506'\n",
      "content=' personal' additional_kwargs={} response_metadata={} id='run--e908644c-53a3-4f4c-9630-1e9abda2f506'\n",
      "content=' connection' additional_kwargs={} response_metadata={} id='run--e908644c-53a3-4f4c-9630-1e9abda2f506'\n",
      "content='.' additional_kwargs={} response_metadata={} id='run--e908644c-53a3-4f4c-9630-1e9abda2f506'\n",
      "content=' That' additional_kwargs={} response_metadata={} id='run--e908644c-53a3-4f4c-9630-1e9abda2f506'\n",
      "content=' should' additional_kwargs={} response_metadata={} id='run--e908644c-53a3-4f4c-9630-1e9abda2f506'\n",
      "content=' do' additional_kwargs={} response_metadata={} id='run--e908644c-53a3-4f4c-9630-1e9abda2f506'\n",
      "content=' it' additional_kwargs={} response_metadata={} id='run--e908644c-53a3-4f4c-9630-1e9abda2f506'\n",
      "content='.' additional_kwargs={} response_metadata={} id='run--e908644c-53a3-4f4c-9630-1e9abda2f506'\n",
      "content=' Let' additional_kwargs={} response_metadata={} id='run--e908644c-53a3-4f4c-9630-1e9abda2f506'\n",
      "content=' me' additional_kwargs={} response_metadata={} id='run--e908644c-53a3-4f4c-9630-1e9abda2f506'\n",
      "content=' put' additional_kwargs={} response_metadata={} id='run--e908644c-53a3-4f4c-9630-1e9abda2f506'\n",
      "content=' it' additional_kwargs={} response_metadata={} id='run--e908644c-53a3-4f4c-9630-1e9abda2f506'\n",
      "content=' all' additional_kwargs={} response_metadata={} id='run--e908644c-53a3-4f4c-9630-1e9abda2f506'\n",
      "content=' together' additional_kwargs={} response_metadata={} id='run--e908644c-53a3-4f4c-9630-1e9abda2f506'\n",
      "content='.\\n' additional_kwargs={} response_metadata={} id='run--e908644c-53a3-4f4c-9630-1e9abda2f506'\n",
      "content='</think>' additional_kwargs={} response_metadata={} id='run--e908644c-53a3-4f4c-9630-1e9abda2f506'\n",
      "content='\\n\\n' additional_kwargs={} response_metadata={} id='run--e908644c-53a3-4f4c-9630-1e9abda2f506'\n",
      "content='**' additional_kwargs={} response_metadata={} id='run--e908644c-53a3-4f4c-9630-1e9abda2f506'\n",
      "content='\"' additional_kwargs={} response_metadata={} id='run--e908644c-53a3-4f4c-9630-1e9abda2f506'\n",
      "content='The' additional_kwargs={} response_metadata={} id='run--e908644c-53a3-4f4c-9630-1e9abda2f506'\n",
      "content=' Key' additional_kwargs={} response_metadata={} id='run--e908644c-53a3-4f4c-9630-1e9abda2f506'\n",
      "content='\"' additional_kwargs={} response_metadata={} id='run--e908644c-53a3-4f4c-9630-1e9abda2f506'\n",
      "content='**' additional_kwargs={} response_metadata={} id='run--e908644c-53a3-4f4c-9630-1e9abda2f506'\n",
      "content='  \\n\\n' additional_kwargs={} response_metadata={} id='run--e908644c-53a3-4f4c-9630-1e9abda2f506'\n",
      "content='Under' additional_kwargs={} response_metadata={} id='run--e908644c-53a3-4f4c-9630-1e9abda2f506'\n",
      "content=' a' additional_kwargs={} response_metadata={} id='run--e908644c-53a3-4f4c-9630-1e9abda2f506'\n",
      "content=' bench' additional_kwargs={} response_metadata={} id='run--e908644c-53a3-4f4c-9630-1e9abda2f506'\n",
      "content=',' additional_kwargs={} response_metadata={} id='run--e908644c-53a3-4f4c-9630-1e9abda2f506'\n",
      "content=' a' additional_kwargs={} response_metadata={} id='run--e908644c-53a3-4f4c-9630-1e9abda2f506'\n",
      "content=' small' additional_kwargs={} response_metadata={} id='run--e908644c-53a3-4f4c-9630-1e9abda2f506'\n",
      "content=' key' additional_kwargs={} response_metadata={} id='run--e908644c-53a3-4f4c-9630-1e9abda2f506'\n",
      "content=' gl' additional_kwargs={} response_metadata={} id='run--e908644c-53a3-4f4c-9630-1e9abda2f506'\n",
      "content='immer' additional_kwargs={} response_metadata={} id='run--e908644c-53a3-4f4c-9630-1e9abda2f506'\n",
      "content='ed' additional_kwargs={} response_metadata={} id='run--e908644c-53a3-4f4c-9630-1e9abda2f506'\n",
      "content='.' additional_kwargs={} response_metadata={} id='run--e908644c-53a3-4f4c-9630-1e9abda2f506'\n",
      "content=' Clara' additional_kwargs={} response_metadata={} id='run--e908644c-53a3-4f4c-9630-1e9abda2f506'\n",
      "content=' picked' additional_kwargs={} response_metadata={} id='run--e908644c-53a3-4f4c-9630-1e9abda2f506'\n",
      "content=' it' additional_kwargs={} response_metadata={} id='run--e908644c-53a3-4f4c-9630-1e9abda2f506'\n",
      "content=' up' additional_kwargs={} response_metadata={} id='run--e908644c-53a3-4f4c-9630-1e9abda2f506'\n",
      "content=',' additional_kwargs={} response_metadata={} id='run--e908644c-53a3-4f4c-9630-1e9abda2f506'\n",
      "content=' unlocked' additional_kwargs={} response_metadata={} id='run--e908644c-53a3-4f4c-9630-1e9abda2f506'\n",
      "content=' a' additional_kwargs={} response_metadata={} id='run--e908644c-53a3-4f4c-9630-1e9abda2f506'\n",
      "content=' door' additional_kwargs={} response_metadata={} id='run--e908644c-53a3-4f4c-9630-1e9abda2f506'\n",
      "content=' she' additional_kwargs={} response_metadata={} id='run--e908644c-53a3-4f4c-9630-1e9abda2f506'\n",
      "content='’d' additional_kwargs={} response_metadata={} id='run--e908644c-53a3-4f4c-9630-1e9abda2f506'\n",
      "content=' never' additional_kwargs={} response_metadata={} id='run--e908644c-53a3-4f4c-9630-1e9abda2f506'\n",
      "content=' noticed' additional_kwargs={} response_metadata={} id='run--e908644c-53a3-4f4c-9630-1e9abda2f506'\n",
      "content=',' additional_kwargs={} response_metadata={} id='run--e908644c-53a3-4f4c-9630-1e9abda2f506'\n",
      "content=' and' additional_kwargs={} response_metadata={} id='run--e908644c-53a3-4f4c-9630-1e9abda2f506'\n",
      "content=' stepped' additional_kwargs={} response_metadata={} id='run--e908644c-53a3-4f4c-9630-1e9abda2f506'\n",
      "content=' into' additional_kwargs={} response_metadata={} id='run--e908644c-53a3-4f4c-9630-1e9abda2f506'\n",
      "content=' a' additional_kwargs={} response_metadata={} id='run--e908644c-53a3-4f4c-9630-1e9abda2f506'\n",
      "content=' forest' additional_kwargs={} response_metadata={} id='run--e908644c-53a3-4f4c-9630-1e9abda2f506'\n",
      "content=' where' additional_kwargs={} response_metadata={} id='run--e908644c-53a3-4f4c-9630-1e9abda2f506'\n",
      "content=' leaves' additional_kwargs={} response_metadata={} id='run--e908644c-53a3-4f4c-9630-1e9abda2f506'\n",
      "content=' shimmer' additional_kwargs={} response_metadata={} id='run--e908644c-53a3-4f4c-9630-1e9abda2f506'\n",
      "content='ed' additional_kwargs={} response_metadata={} id='run--e908644c-53a3-4f4c-9630-1e9abda2f506'\n",
      "content=' like' additional_kwargs={} response_metadata={} id='run--e908644c-53a3-4f4c-9630-1e9abda2f506'\n",
      "content=' glass' additional_kwargs={} response_metadata={} id='run--e908644c-53a3-4f4c-9630-1e9abda2f506'\n",
      "content='.' additional_kwargs={} response_metadata={} id='run--e908644c-53a3-4f4c-9630-1e9abda2f506'\n",
      "content=' Each' additional_kwargs={} response_metadata={} id='run--e908644c-53a3-4f4c-9630-1e9abda2f506'\n",
      "content=' held' additional_kwargs={} response_metadata={} id='run--e908644c-53a3-4f4c-9630-1e9abda2f506'\n",
      "content=' a' additional_kwargs={} response_metadata={} id='run--e908644c-53a3-4f4c-9630-1e9abda2f506'\n",
      "content=' scene' additional_kwargs={} response_metadata={} id='run--e908644c-53a3-4f4c-9630-1e9abda2f506'\n",
      "content='—' additional_kwargs={} response_metadata={} id='run--e908644c-53a3-4f4c-9630-1e9abda2f506'\n",
      "content='str' additional_kwargs={} response_metadata={} id='run--e908644c-53a3-4f4c-9630-1e9abda2f506'\n",
      "content='angers' additional_kwargs={} response_metadata={} id='run--e908644c-53a3-4f4c-9630-1e9abda2f506'\n",
      "content='’' additional_kwargs={} response_metadata={} id='run--e908644c-53a3-4f4c-9630-1e9abda2f506'\n",
      "content=' laughter' additional_kwargs={} response_metadata={} id='run--e908644c-53a3-4f4c-9630-1e9abda2f506'\n",
      "content=',' additional_kwargs={} response_metadata={} id='run--e908644c-53a3-4f4c-9630-1e9abda2f506'\n",
      "content=' a' additional_kwargs={} response_metadata={} id='run--e908644c-53a3-4f4c-9630-1e9abda2f506'\n",
      "content=' storm' additional_kwargs={} response_metadata={} id='run--e908644c-53a3-4f4c-9630-1e9abda2f506'\n",
      "content=',' additional_kwargs={} response_metadata={} id='run--e908644c-53a3-4f4c-9630-1e9abda2f506'\n",
      "content=' a' additional_kwargs={} response_metadata={} id='run--e908644c-53a3-4f4c-9630-1e9abda2f506'\n",
      "content=' wedding' additional_kwargs={} response_metadata={} id='run--e908644c-53a3-4f4c-9630-1e9abda2f506'\n",
      "content='.' additional_kwargs={} response_metadata={} id='run--e908644c-53a3-4f4c-9630-1e9abda2f506'\n",
      "content=' She' additional_kwargs={} response_metadata={} id='run--e908644c-53a3-4f4c-9630-1e9abda2f506'\n",
      "content=' wandered' additional_kwargs={} response_metadata={} id='run--e908644c-53a3-4f4c-9630-1e9abda2f506'\n",
      "content=' until' additional_kwargs={} response_metadata={} id='run--e908644c-53a3-4f4c-9630-1e9abda2f506'\n",
      "content=' she' additional_kwargs={} response_metadata={} id='run--e908644c-53a3-4f4c-9630-1e9abda2f506'\n",
      "content=' found' additional_kwargs={} response_metadata={} id='run--e908644c-53a3-4f4c-9630-1e9abda2f506'\n",
      "content=' a' additional_kwargs={} response_metadata={} id='run--e908644c-53a3-4f4c-9630-1e9abda2f506'\n",
      "content=' leaf' additional_kwargs={} response_metadata={} id='run--e908644c-53a3-4f4c-9630-1e9abda2f506'\n",
      "content=' showing' additional_kwargs={} response_metadata={} id='run--e908644c-53a3-4f4c-9630-1e9abda2f506'\n",
      "content=' her' additional_kwargs={} response_metadata={} id='run--e908644c-53a3-4f4c-9630-1e9abda2f506'\n",
      "content=' as' additional_kwargs={} response_metadata={} id='run--e908644c-53a3-4f4c-9630-1e9abda2f506'\n",
      "content=' a' additional_kwargs={} response_metadata={} id='run--e908644c-53a3-4f4c-9630-1e9abda2f506'\n",
      "content=' child' additional_kwargs={} response_metadata={} id='run--e908644c-53a3-4f4c-9630-1e9abda2f506'\n",
      "content=',' additional_kwargs={} response_metadata={} id='run--e908644c-53a3-4f4c-9630-1e9abda2f506'\n",
      "content=' building' additional_kwargs={} response_metadata={} id='run--e908644c-53a3-4f4c-9630-1e9abda2f506'\n",
      "content=' a' additional_kwargs={} response_metadata={} id='run--e908644c-53a3-4f4c-9630-1e9abda2f506'\n",
      "content=' sand' additional_kwargs={} response_metadata={} id='run--e908644c-53a3-4f4c-9630-1e9abda2f506'\n",
      "content='castle' additional_kwargs={} response_metadata={} id='run--e908644c-53a3-4f4c-9630-1e9abda2f506'\n",
      "content='.' additional_kwargs={} response_metadata={} id='run--e908644c-53a3-4f4c-9630-1e9abda2f506'\n",
      "content=' Tears' additional_kwargs={} response_metadata={} id='run--e908644c-53a3-4f4c-9630-1e9abda2f506'\n",
      "content=' wel' additional_kwargs={} response_metadata={} id='run--e908644c-53a3-4f4c-9630-1e9abda2f506'\n",
      "content='led' additional_kwargs={} response_metadata={} id='run--e908644c-53a3-4f4c-9630-1e9abda2f506'\n",
      "content=';' additional_kwargs={} response_metadata={} id='run--e908644c-53a3-4f4c-9630-1e9abda2f506'\n",
      "content=' she' additional_kwargs={} response_metadata={} id='run--e908644c-53a3-4f4c-9630-1e9abda2f506'\n",
      "content='’d' additional_kwargs={} response_metadata={} id='run--e908644c-53a3-4f4c-9630-1e9abda2f506'\n",
      "content=' forgotten' additional_kwargs={} response_metadata={} id='run--e908644c-53a3-4f4c-9630-1e9abda2f506'\n",
      "content=' that' additional_kwargs={} response_metadata={} id='run--e908644c-53a3-4f4c-9630-1e9abda2f506'\n",
      "content=' day' additional_kwargs={} response_metadata={} id='run--e908644c-53a3-4f4c-9630-1e9abda2f506'\n",
      "content='.' additional_kwargs={} response_metadata={} id='run--e908644c-53a3-4f4c-9630-1e9abda2f506'\n",
      "content=' The' additional_kwargs={} response_metadata={} id='run--e908644c-53a3-4f4c-9630-1e9abda2f506'\n",
      "content=' wind' additional_kwargs={} response_metadata={} id='run--e908644c-53a3-4f4c-9630-1e9abda2f506'\n",
      "content=' whispered' additional_kwargs={} response_metadata={} id='run--e908644c-53a3-4f4c-9630-1e9abda2f506'\n",
      "content=',' additional_kwargs={} response_metadata={} id='run--e908644c-53a3-4f4c-9630-1e9abda2f506'\n",
      "content=' *' additional_kwargs={} response_metadata={} id='run--e908644c-53a3-4f4c-9630-1e9abda2f506'\n",
      "content='“' additional_kwargs={} response_metadata={} id='run--e908644c-53a3-4f4c-9630-1e9abda2f506'\n",
      "content='Nothing' additional_kwargs={} response_metadata={} id='run--e908644c-53a3-4f4c-9630-1e9abda2f506'\n",
      "content=' is' additional_kwargs={} response_metadata={} id='run--e908644c-53a3-4f4c-9630-1e9abda2f506'\n",
      "content=' lost' additional_kwargs={} response_metadata={} id='run--e908644c-53a3-4f4c-9630-1e9abda2f506'\n",
      "content=' here' additional_kwargs={} response_metadata={} id='run--e908644c-53a3-4f4c-9630-1e9abda2f506'\n",
      "content='.”' additional_kwargs={} response_metadata={} id='run--e908644c-53a3-4f4c-9630-1e9abda2f506'\n",
      "content='*' additional_kwargs={} response_metadata={} id='run--e908644c-53a3-4f4c-9630-1e9abda2f506'\n",
      "content=' She' additional_kwargs={} response_metadata={} id='run--e908644c-53a3-4f4c-9630-1e9abda2f506'\n",
      "content=' pocket' additional_kwargs={} response_metadata={} id='run--e908644c-53a3-4f4c-9630-1e9abda2f506'\n",
      "content='ed' additional_kwargs={} response_metadata={} id='run--e908644c-53a3-4f4c-9630-1e9abda2f506'\n",
      "content=' the' additional_kwargs={} response_metadata={} id='run--e908644c-53a3-4f4c-9630-1e9abda2f506'\n",
      "content=' key' additional_kwargs={} response_metadata={} id='run--e908644c-53a3-4f4c-9630-1e9abda2f506'\n",
      "content=',' additional_kwargs={} response_metadata={} id='run--e908644c-53a3-4f4c-9630-1e9abda2f506'\n",
      "content=' heart' additional_kwargs={} response_metadata={} id='run--e908644c-53a3-4f4c-9630-1e9abda2f506'\n",
      "content=' lighter' additional_kwargs={} response_metadata={} id='run--e908644c-53a3-4f4c-9630-1e9abda2f506'\n",
      "content='.' additional_kwargs={} response_metadata={} id='run--e908644c-53a3-4f4c-9630-1e9abda2f506'\n",
      "content='  \\n\\n' additional_kwargs={} response_metadata={} id='run--e908644c-53a3-4f4c-9630-1e9abda2f506'\n",
      "content='(' additional_kwargs={} response_metadata={} id='run--e908644c-53a3-4f4c-9630-1e9abda2f506'\n",
      "content='9' additional_kwargs={} response_metadata={} id='run--e908644c-53a3-4f4c-9630-1e9abda2f506'\n",
      "content='9' additional_kwargs={} response_metadata={} id='run--e908644c-53a3-4f4c-9630-1e9abda2f506'\n",
      "content=' words' additional_kwargs={} response_metadata={} id='run--e908644c-53a3-4f4c-9630-1e9abda2f506'\n",
      "content=')' additional_kwargs={} response_metadata={} id='run--e908644c-53a3-4f4c-9630-1e9abda2f506'\n",
      "content='' additional_kwargs={} response_metadata={'finish_reason': 'stop', 'model_name': 'qwen/qwen3-32b', 'system_fingerprint': 'fp_5cf921caa2', 'service_tier': 'on_demand'} id='run--e908644c-53a3-4f4c-9630-1e9abda2f506' usage_metadata={'input_tokens': 13, 'output_tokens': 401, 'total_tokens': 414}\n"
     ]
    }
   ],
   "source": [
    "for chunk in llm.stream(\"tell a very short story\"):\n",
    "    print(chunk)"
   ]
  },
  {
   "cell_type": "code",
   "execution_count": 21,
   "id": "d587c7bd",
   "metadata": {},
   "outputs": [
    {
     "name": "stdout",
     "output_type": "stream",
     "text": [
      " []\n",
      "<think> [60, 116, 104, 105, 110, 107, 62]\n",
      "\n",
      " [10]\n",
      "Okay [79, 107, 97, 121]\n",
      ", [44]\n",
      " the [32, 116, 104, 101]\n",
      " user [32, 117, 115, 101, 114]\n",
      " said [32, 115, 97, 105, 100]\n",
      " \" [32, 34]\n",
      "hi [104, 105]\n",
      "\". [34, 46]\n",
      " That [32, 84, 104, 97, 116]\n",
      "'s [39, 115]\n",
      " a [32, 97]\n",
      " greeting [32, 103, 114, 101, 101, 116, 105, 110, 103]\n",
      ". [46]\n",
      " I [32, 73]\n",
      " should [32, 115, 104, 111, 117, 108, 100]\n",
      " respond [32, 114, 101, 115, 112, 111, 110, 100]\n",
      " in [32, 105, 110]\n",
      " a [32, 97]\n",
      " friendly [32, 102, 114, 105, 101, 110, 100, 108, 121]\n",
      " and [32, 97, 110, 100]\n",
      " welcoming [32, 119, 101, 108, 99, 111, 109, 105, 110, 103]\n",
      " way [32, 119, 97, 121]\n",
      ". [46]\n",
      " Maybe [32, 77, 97, 121, 98, 101]\n",
      " start [32, 115, 116, 97, 114, 116]\n",
      " with [32, 119, 105, 116, 104]\n",
      " a [32, 97]\n",
      " cheerful [32, 99, 104, 101, 101, 114, 102, 117, 108]\n",
      " greeting [32, 103, 114, 101, 101, 116, 105, 110, 103]\n",
      " like [32, 108, 105, 107, 101]\n",
      " \" [32, 34]\n",
      "Hello [72, 101, 108, 108, 111]\n",
      "!\" [33, 34]\n",
      " and [32, 97, 110, 100]\n",
      " offer [32, 111, 102, 102, 101, 114]\n",
      " assistance [32, 97, 115, 115, 105, 115, 116, 97, 110, 99, 101]\n",
      ". [46]\n",
      " Keep [32, 75, 101, 101, 112]\n",
      " it [32, 105, 116]\n",
      " simple [32, 115, 105, 109, 112, 108, 101]\n",
      " and [32, 97, 110, 100]\n",
      " open [32, 111, 112, 101, 110]\n",
      "-ended [45, 101, 110, 100, 101, 100]\n",
      " so [32, 115, 111]\n",
      " they [32, 116, 104, 101, 121]\n",
      " know [32, 107, 110, 111, 119]\n",
      " I [32, 73]\n",
      "'m [39, 109]\n",
      " here [32, 104, 101, 114, 101]\n",
      " to [32, 116, 111]\n",
      " help [32, 104, 101, 108, 112]\n",
      " with [32, 119, 105, 116, 104]\n",
      " whatever [32, 119, 104, 97, 116, 101, 118, 101, 114]\n",
      " they [32, 116, 104, 101, 121]\n",
      " need [32, 110, 101, 101, 100]\n",
      ". [46]\n",
      " Let [32, 76, 101, 116]\n",
      " me [32, 109, 101]\n",
      " make [32, 109, 97, 107, 101]\n",
      " sure [32, 115, 117, 114, 101]\n",
      " the [32, 116, 104, 101]\n",
      " tone [32, 116, 111, 110, 101]\n",
      " is [32, 105, 115]\n",
      " positive [32, 112, 111, 115, 105, 116, 105, 118, 101]\n",
      " and [32, 97, 110, 100]\n",
      " approach [32, 97, 112, 112, 114, 111, 97, 99, 104]\n",
      "able [97, 98, 108, 101]\n",
      ".\n",
      " [46, 10]\n",
      "</think> [60, 47, 116, 104, 105, 110, 107, 62]\n",
      "\n",
      "\n",
      " [10, 10]\n",
      "Hello [72, 101, 108, 108, 111]\n",
      "! [33]\n",
      " How [32, 72, 111, 119]\n",
      " can [32, 99, 97, 110]\n",
      " I [32, 73]\n",
      " assist [32, 97, 115, 115, 105, 115, 116]\n",
      " you [32, 121, 111, 117]\n",
      " today [32, 116, 111, 100, 97, 121]\n",
      "? [63]\n",
      " 😊 [32, 128522]\n",
      " []\n"
     ]
    }
   ],
   "source": [
    "for chunk in llm.stream(\"hi\"):\n",
    "    print(chunk.content, [ord(c) for c in chunk.content])"
   ]
  },
  {
   "cell_type": "code",
   "execution_count": null,
   "id": "81d67366",
   "metadata": {},
   "outputs": [
    {
     "name": "stdout",
     "output_type": "stream",
     "text": [
      "llama-3.1-8b-instant\n"
     ]
    }
   ],
   "source": [
    "full_response = \"\"\n",
    "for chunk in llm.stream(\"tell a joke\"):\n",
    "    full_response += chunk.content\n",
    "    if \"finish_reason\" in chunk.response_metadata:\n",
    "        if chunk.response_metadata[\"finish_reason\"].lower() == \"stop\":\n",
    "            print(chunk.response_metadata[\"model_name\"])"
   ]
  },
  {
   "cell_type": "code",
   "execution_count": 19,
   "id": "8d119d09",
   "metadata": {},
   "outputs": [
    {
     "data": {
      "text/plain": [
       "AIMessage(content=\"It's nice to meet you. Is there something I can help you with or would you like to chat?\", additional_kwargs={}, response_metadata={'token_usage': {'completion_tokens': 23, 'prompt_tokens': 36, 'total_tokens': 59, 'completion_time': 0.024291614, 'prompt_time': 0.008300114, 'queue_time': 0.046578856, 'total_time': 0.032591728}, 'model_name': 'llama-3.1-8b-instant', 'system_fingerprint': 'fp_2115512ff6', 'service_tier': 'on_demand', 'finish_reason': 'stop', 'logprobs': None}, id='run--2b381a4a-0562-4047-8ea1-2ccd3f849e78-0', usage_metadata={'input_tokens': 36, 'output_tokens': 23, 'total_tokens': 59})"
      ]
     },
     "execution_count": 19,
     "metadata": {},
     "output_type": "execute_result"
    }
   ],
   "source": [
    "llm.invoke(\"Hi\")"
   ]
  },
  {
   "cell_type": "code",
   "execution_count": 12,
   "id": "26da1b7a",
   "metadata": {},
   "outputs": [
    {
     "data": {
      "text/plain": [
       "'<think> Aasdf sdfwerfw df asf'"
      ]
     },
     "execution_count": 12,
     "metadata": {},
     "output_type": "execute_result"
    }
   ],
   "source": [
    "aa = \"<think> Aasdf sdfwerfw df asf\"\n",
    "aa"
   ]
  },
  {
   "cell_type": "code",
   "execution_count": 13,
   "id": "68a9b9a6",
   "metadata": {},
   "outputs": [
    {
     "data": {
      "text/plain": [
       "'Aasdf sdfwerfw df asf'"
      ]
     },
     "execution_count": 13,
     "metadata": {},
     "output_type": "execute_result"
    }
   ],
   "source": [
    "\n",
    "if \"<think>\" in aa:\n",
    "    aa = aa.replace(\"<think>\", \"\").strip()\n",
    "\n",
    "aa"
   ]
  },
  {
   "cell_type": "code",
   "execution_count": 19,
   "id": "56c3a8d7",
   "metadata": {},
   "outputs": [
    {
     "data": {
      "text/plain": [
       "[97, 115, 100]"
      ]
     },
     "execution_count": 19,
     "metadata": {},
     "output_type": "execute_result"
    }
   ],
   "source": [
    "bb = \"asd\"\n",
    "[ord(c) for c in bb]"
   ]
  }
 ],
 "metadata": {
  "kernelspec": {
   "display_name": ".venv",
   "language": "python",
   "name": "python3"
  },
  "language_info": {
   "codemirror_mode": {
    "name": "ipython",
    "version": 3
   },
   "file_extension": ".py",
   "mimetype": "text/x-python",
   "name": "python",
   "nbconvert_exporter": "python",
   "pygments_lexer": "ipython3",
   "version": "3.10.11"
  }
 },
 "nbformat": 4,
 "nbformat_minor": 5
}
