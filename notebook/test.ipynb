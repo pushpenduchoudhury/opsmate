{
 "cells": [
  {
   "cell_type": "code",
   "execution_count": 1,
   "id": "cee95c54",
   "metadata": {},
   "outputs": [
    {
     "name": "stderr",
     "output_type": "stream",
     "text": [
      "2025-09-01 18:41:50.492 WARNING streamlit.runtime.caching.cache_data_api: No runtime found, using MemoryCacheStorageManager\n",
      "2025-09-01 18:41:50.831 Thread 'MainThread': missing ScriptRunContext! This warning can be ignored when running in bare mode.\n",
      "2025-09-01 18:41:50.836 Thread 'MainThread': missing ScriptRunContext! This warning can be ignored when running in bare mode.\n",
      "2025-09-01 18:41:50.842 Thread 'MainThread': missing ScriptRunContext! This warning can be ignored when running in bare mode.\n",
      "2025-09-01 18:41:50.847 Thread 'MainThread': missing ScriptRunContext! This warning can be ignored when running in bare mode.\n"
     ]
    }
   ],
   "source": [
    "import streamlit as st\n",
    "import streamlit_authenticator as stauth"
   ]
  },
  {
   "cell_type": "code",
   "execution_count": null,
   "id": "56ba25b8",
   "metadata": {},
   "outputs": [],
   "source": [
    "names = ['Pushpendu Choudhury', 'Administrator', 'Test']\n",
    "usernames = ['pushpendu', 'analyst', 'admin']\n",
    "passwords = ['password', 'password', 'password']"
   ]
  },
  {
   "cell_type": "code",
   "execution_count": 21,
   "id": "42555abb",
   "metadata": {},
   "outputs": [
    {
     "name": "stderr",
     "output_type": "stream",
     "text": [
      "2025-09-02 14:25:20.723 WARNING streamlit.runtime.caching.cache_data_api: No runtime found, using MemoryCacheStorageManager\n",
      "2025-09-02 14:25:21.159 Thread 'MainThread': missing ScriptRunContext! This warning can be ignored when running in bare mode.\n",
      "2025-09-02 14:25:21.159 Thread 'MainThread': missing ScriptRunContext! This warning can be ignored when running in bare mode.\n",
      "2025-09-02 14:25:21.174 Thread 'MainThread': missing ScriptRunContext! This warning can be ignored when running in bare mode.\n",
      "2025-09-02 14:25:21.180 Thread 'MainThread': missing ScriptRunContext! This warning can be ignored when running in bare mode.\n"
     ]
    }
   ],
   "source": [
    "from utils import utils"
   ]
  },
  {
   "cell_type": "code",
   "execution_count": 23,
   "id": "66ea632b",
   "metadata": {},
   "outputs": [
    {
     "data": {
      "text/plain": [
       "'$2b$12$WTeOf9qtDX1xtTO0pJ1WV.GitelYZ0Y8RMYzeYibjv.OMj8bI9D7G'"
      ]
     },
     "execution_count": 23,
     "metadata": {},
     "output_type": "execute_result"
    }
   ],
   "source": [
    "utils.hash_password(passwords[1])"
   ]
  },
  {
   "cell_type": "code",
   "execution_count": 13,
   "id": "b06d272b",
   "metadata": {},
   "outputs": [
    {
     "data": {
      "text/plain": [
       "False"
      ]
     },
     "execution_count": 13,
     "metadata": {},
     "output_type": "execute_result"
    }
   ],
   "source": [
    "utils.check_password(\"admin\", \"passwaord\")"
   ]
  },
  {
   "cell_type": "code",
   "execution_count": 15,
   "id": "7b17e097",
   "metadata": {},
   "outputs": [],
   "source": [
    "def get_ollama_models() -> list:\n",
    "    import ollama\n",
    "    ollama_client = ollama.Client()\n",
    "    llm = ollama_client.list()\n",
    "    model_list:list[str] = [i['model'] for i in llm['models']]\n",
    "    return model_list"
   ]
  },
  {
   "cell_type": "code",
   "execution_count": 16,
   "id": "73665a77",
   "metadata": {},
   "outputs": [
    {
     "data": {
      "text/plain": [
       "['deepseek-r1:8b', 'nomic-embed-text:latest', 'llama3.1:8b']"
      ]
     },
     "execution_count": 16,
     "metadata": {},
     "output_type": "execute_result"
    }
   ],
   "source": [
    "get_ollama_models()"
   ]
  },
  {
   "cell_type": "code",
   "execution_count": 18,
   "id": "6eefbff9",
   "metadata": {},
   "outputs": [],
   "source": [
    "apps = [\n",
    "    {\"name\": \"NextGen OpsMate\",\n",
    "     \"description\": \"The IT Services Incident Response Assistant is an AI-powered app that helps IT support teams quickly resolve incidents. By analyzing incident descriptions, it provides step-by-step instructions, escalation paths, and links to relevant documentation, significantly reducing resolution time.\",\n",
    "     \"page\": \"opsmate.py\",\n",
    "     \"image_icon\": \"opsmate.gif\",\n",
    "     \"access_privilege_role\": [\"user\"],\n",
    "    },\n",
    "    {\"name\": \"Incident Analytics\",\n",
    "     \"description\": \"Incident ticket analytics provide insights into the volume, types, resolution times, and trends of IT support issues. This data helps identify bottlenecks, improve processes, and optimize resource allocation for faster and more efficient problem resolution.\",\n",
    "     \"page\": \"analytics.py\",\n",
    "     \"image_icon\": \"analytics.png\",\n",
    "     \"access_privilege_role\": [\"analyst\"],\n",
    "    },\n",
    "]\n",
    "user_roles = [\"analyst\"]\n",
    "accessible_apps = []"
   ]
  },
  {
   "cell_type": "code",
   "execution_count": 19,
   "id": "192b0387",
   "metadata": {},
   "outputs": [
    {
     "data": {
      "text/plain": [
       "[{'name': 'Incident Analytics',\n",
       "  'description': 'Incident ticket analytics provide insights into the volume, types, resolution times, and trends of IT support issues. This data helps identify bottlenecks, improve processes, and optimize resource allocation for faster and more efficient problem resolution.',\n",
       "  'page': 'analytics.py',\n",
       "  'image_icon': 'analytics.png',\n",
       "  'access_privilege_role': ['analyst']}]"
      ]
     },
     "execution_count": 19,
     "metadata": {},
     "output_type": "execute_result"
    }
   ],
   "source": [
    "for app in apps:\n",
    "    if len(list(set(user_roles).intersection(set(app[\"access_privilege_role\"])))) > 0:\n",
    "        accessible_apps.append(app)\n",
    "\n",
    "accessible_apps\n",
    "        "
   ]
  },
  {
   "cell_type": "code",
   "execution_count": 11,
   "id": "6835af37",
   "metadata": {},
   "outputs": [
    {
     "data": {
      "text/plain": [
       "[{'role': 'user', 'content': 'iser', 'audio': ''},\n",
       " {'role': 'assistant', 'content': 'ass', 'audio': ''}]"
      ]
     },
     "execution_count": 11,
     "metadata": {},
     "output_type": "execute_result"
    }
   ],
   "source": [
    "aa = [{\"role\": \"user\", \"content\": \"iser\", \"audio\": \"\"}, {\"role\": \"assistant\", \"content\": \"ass\", \"audio\": \"\"}]\n",
    "aa"
   ]
  },
  {
   "cell_type": "code",
   "execution_count": 10,
   "id": "dd644d66",
   "metadata": {},
   "outputs": [
    {
     "data": {
      "text/plain": [
       "[{'role': 'user', 'content': 'iser'}, {'role': 'assistant', 'content': 'ass'}]"
      ]
     },
     "execution_count": 10,
     "metadata": {},
     "output_type": "execute_result"
    }
   ],
   "source": [
    "[{key: d[key] for key in [\"role\", \"content\"] if key in d} for d in aa]"
   ]
  }
 ],
 "metadata": {
  "kernelspec": {
   "display_name": ".venv",
   "language": "python",
   "name": "python3"
  },
  "language_info": {
   "codemirror_mode": {
    "name": "ipython",
    "version": 3
   },
   "file_extension": ".py",
   "mimetype": "text/x-python",
   "name": "python",
   "nbconvert_exporter": "python",
   "pygments_lexer": "ipython3",
   "version": "3.10.11"
  }
 },
 "nbformat": 4,
 "nbformat_minor": 5
}
