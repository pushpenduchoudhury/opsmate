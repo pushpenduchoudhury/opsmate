{
 "cells": [
  {
   "cell_type": "code",
   "execution_count": 1,
   "id": "cee95c54",
   "metadata": {},
   "outputs": [
    {
     "name": "stderr",
     "output_type": "stream",
     "text": [
      "2025-09-01 18:41:50.492 WARNING streamlit.runtime.caching.cache_data_api: No runtime found, using MemoryCacheStorageManager\n",
      "2025-09-01 18:41:50.831 Thread 'MainThread': missing ScriptRunContext! This warning can be ignored when running in bare mode.\n",
      "2025-09-01 18:41:50.836 Thread 'MainThread': missing ScriptRunContext! This warning can be ignored when running in bare mode.\n",
      "2025-09-01 18:41:50.842 Thread 'MainThread': missing ScriptRunContext! This warning can be ignored when running in bare mode.\n",
      "2025-09-01 18:41:50.847 Thread 'MainThread': missing ScriptRunContext! This warning can be ignored when running in bare mode.\n"
     ]
    }
   ],
   "source": [
    "import streamlit as st\n",
    "import streamlit_authenticator as stauth"
   ]
  },
  {
   "cell_type": "code",
   "execution_count": null,
   "id": "56ba25b8",
   "metadata": {},
   "outputs": [],
   "source": [
    "names = ['Pushpendu Choudhury', 'Administrator', 'Test']\n",
    "usernames = ['pushpendu', 'analyst', 'admin']\n",
    "passwords = ['password', 'password', 'password']"
   ]
  },
  {
   "cell_type": "code",
   "execution_count": 21,
   "id": "42555abb",
   "metadata": {},
   "outputs": [
    {
     "name": "stderr",
     "output_type": "stream",
     "text": [
      "2025-09-02 14:25:20.723 WARNING streamlit.runtime.caching.cache_data_api: No runtime found, using MemoryCacheStorageManager\n",
      "2025-09-02 14:25:21.159 Thread 'MainThread': missing ScriptRunContext! This warning can be ignored when running in bare mode.\n",
      "2025-09-02 14:25:21.159 Thread 'MainThread': missing ScriptRunContext! This warning can be ignored when running in bare mode.\n",
      "2025-09-02 14:25:21.174 Thread 'MainThread': missing ScriptRunContext! This warning can be ignored when running in bare mode.\n",
      "2025-09-02 14:25:21.180 Thread 'MainThread': missing ScriptRunContext! This warning can be ignored when running in bare mode.\n"
     ]
    }
   ],
   "source": [
    "from utils import utils"
   ]
  },
  {
   "cell_type": "code",
   "execution_count": 23,
   "id": "66ea632b",
   "metadata": {},
   "outputs": [
    {
     "data": {
      "text/plain": [
       "'$2b$12$WTeOf9qtDX1xtTO0pJ1WV.GitelYZ0Y8RMYzeYibjv.OMj8bI9D7G'"
      ]
     },
     "execution_count": 23,
     "metadata": {},
     "output_type": "execute_result"
    }
   ],
   "source": [
    "utils.hash_password(passwords[1])"
   ]
  },
  {
   "cell_type": "code",
   "execution_count": 13,
   "id": "b06d272b",
   "metadata": {},
   "outputs": [
    {
     "data": {
      "text/plain": [
       "False"
      ]
     },
     "execution_count": 13,
     "metadata": {},
     "output_type": "execute_result"
    }
   ],
   "source": [
    "utils.check_password(\"admin\", \"passwaord\")"
   ]
  },
  {
   "cell_type": "code",
   "execution_count": 15,
   "id": "7b17e097",
   "metadata": {},
   "outputs": [],
   "source": [
    "def get_ollama_models() -> list:\n",
    "    import ollama\n",
    "    ollama_client = ollama.Client()\n",
    "    llm = ollama_client.list()\n",
    "    model_list:list[str] = [i['model'] for i in llm['models']]\n",
    "    return model_list"
   ]
  },
  {
   "cell_type": "code",
   "execution_count": 16,
   "id": "73665a77",
   "metadata": {},
   "outputs": [
    {
     "data": {
      "text/plain": [
       "['deepseek-r1:8b', 'nomic-embed-text:latest', 'llama3.1:8b']"
      ]
     },
     "execution_count": 16,
     "metadata": {},
     "output_type": "execute_result"
    }
   ],
   "source": [
    "get_ollama_models()"
   ]
  },
  {
   "cell_type": "code",
   "execution_count": 18,
   "id": "6eefbff9",
   "metadata": {},
   "outputs": [],
   "source": [
    "apps = [\n",
    "    {\"name\": \"NextGen OpsMate\",\n",
    "     \"description\": \"The IT Services Incident Response Assistant is an AI-powered app that helps IT support teams quickly resolve incidents. By analyzing incident descriptions, it provides step-by-step instructions, escalation paths, and links to relevant documentation, significantly reducing resolution time.\",\n",
    "     \"page\": \"opsmate.py\",\n",
    "     \"image_icon\": \"opsmate.gif\",\n",
    "     \"access_privilege_role\": [\"user\"],\n",
    "    },\n",
    "    {\"name\": \"Incident Analytics\",\n",
    "     \"description\": \"Incident ticket analytics provide insights into the volume, types, resolution times, and trends of IT support issues. This data helps identify bottlenecks, improve processes, and optimize resource allocation for faster and more efficient problem resolution.\",\n",
    "     \"page\": \"analytics.py\",\n",
    "     \"image_icon\": \"analytics.png\",\n",
    "     \"access_privilege_role\": [\"analyst\"],\n",
    "    },\n",
    "]\n",
    "user_roles = [\"analyst\"]\n",
    "accessible_apps = []"
   ]
  },
  {
   "cell_type": "code",
   "execution_count": 19,
   "id": "192b0387",
   "metadata": {},
   "outputs": [
    {
     "data": {
      "text/plain": [
       "[{'name': 'Incident Analytics',\n",
       "  'description': 'Incident ticket analytics provide insights into the volume, types, resolution times, and trends of IT support issues. This data helps identify bottlenecks, improve processes, and optimize resource allocation for faster and more efficient problem resolution.',\n",
       "  'page': 'analytics.py',\n",
       "  'image_icon': 'analytics.png',\n",
       "  'access_privilege_role': ['analyst']}]"
      ]
     },
     "execution_count": 19,
     "metadata": {},
     "output_type": "execute_result"
    }
   ],
   "source": [
    "for app in apps:\n",
    "    if len(list(set(user_roles).intersection(set(app[\"access_privilege_role\"])))) > 0:\n",
    "        accessible_apps.append(app)\n",
    "\n",
    "accessible_apps\n",
    "        "
   ]
  },
  {
   "cell_type": "code",
   "execution_count": 11,
   "id": "6835af37",
   "metadata": {},
   "outputs": [
    {
     "data": {
      "text/plain": [
       "[{'role': 'user', 'content': 'iser', 'audio': ''},\n",
       " {'role': 'assistant', 'content': 'ass', 'audio': ''}]"
      ]
     },
     "execution_count": 11,
     "metadata": {},
     "output_type": "execute_result"
    }
   ],
   "source": [
    "aa = [{\"role\": \"user\", \"content\": \"iser\", \"audio\": \"\"}, {\"role\": \"assistant\", \"content\": \"ass\", \"audio\": \"\"}]\n",
    "aa"
   ]
  },
  {
   "cell_type": "code",
   "execution_count": 10,
   "id": "dd644d66",
   "metadata": {},
   "outputs": [
    {
     "data": {
      "text/plain": [
       "[{'role': 'user', 'content': 'iser'}, {'role': 'assistant', 'content': 'ass'}]"
      ]
     },
     "execution_count": 10,
     "metadata": {},
     "output_type": "execute_result"
    }
   ],
   "source": [
    "[{key: d[key] for key in [\"role\", \"content\"] if key in d} for d in aa]"
   ]
  },
  {
   "cell_type": "code",
   "execution_count": 12,
   "id": "b1a6889c",
   "metadata": {},
   "outputs": [],
   "source": [
    "from langchain.chat_models import init_chat_model\n",
    "from dotenv import load_dotenv\n",
    "load_dotenv()\n",
    "llm = init_chat_model(model = \"llama-3.1-8b-instant\", model_provider = \"groq\")"
   ]
  },
  {
   "cell_type": "code",
   "execution_count": 14,
   "id": "d587c7bd",
   "metadata": {},
   "outputs": [
    {
     "name": "stdout",
     "output_type": "stream",
     "text": [
      "content='' additional_kwargs={} response_metadata={} id='run--b18ab1b1-2395-4c6c-a7e4-54cd6d663b54'\n",
      "content='Once' additional_kwargs={} response_metadata={} id='run--b18ab1b1-2395-4c6c-a7e4-54cd6d663b54'\n",
      "content=' upon' additional_kwargs={} response_metadata={} id='run--b18ab1b1-2395-4c6c-a7e4-54cd6d663b54'\n",
      "content=' a' additional_kwargs={} response_metadata={} id='run--b18ab1b1-2395-4c6c-a7e4-54cd6d663b54'\n",
      "content=' time' additional_kwargs={} response_metadata={} id='run--b18ab1b1-2395-4c6c-a7e4-54cd6d663b54'\n",
      "content=',' additional_kwargs={} response_metadata={} id='run--b18ab1b1-2395-4c6c-a7e4-54cd6d663b54'\n",
      "content=' in' additional_kwargs={} response_metadata={} id='run--b18ab1b1-2395-4c6c-a7e4-54cd6d663b54'\n",
      "content=' a' additional_kwargs={} response_metadata={} id='run--b18ab1b1-2395-4c6c-a7e4-54cd6d663b54'\n",
      "content=' quaint' additional_kwargs={} response_metadata={} id='run--b18ab1b1-2395-4c6c-a7e4-54cd6d663b54'\n",
      "content=' village' additional_kwargs={} response_metadata={} id='run--b18ab1b1-2395-4c6c-a7e4-54cd6d663b54'\n",
      "content=' nestled' additional_kwargs={} response_metadata={} id='run--b18ab1b1-2395-4c6c-a7e4-54cd6d663b54'\n",
      "content=' between' additional_kwargs={} response_metadata={} id='run--b18ab1b1-2395-4c6c-a7e4-54cd6d663b54'\n",
      "content=' two' additional_kwargs={} response_metadata={} id='run--b18ab1b1-2395-4c6c-a7e4-54cd6d663b54'\n",
      "content=' great' additional_kwargs={} response_metadata={} id='run--b18ab1b1-2395-4c6c-a7e4-54cd6d663b54'\n",
      "content=' mountains' additional_kwargs={} response_metadata={} id='run--b18ab1b1-2395-4c6c-a7e4-54cd6d663b54'\n",
      "content=',' additional_kwargs={} response_metadata={} id='run--b18ab1b1-2395-4c6c-a7e4-54cd6d663b54'\n",
      "content=' there' additional_kwargs={} response_metadata={} id='run--b18ab1b1-2395-4c6c-a7e4-54cd6d663b54'\n",
      "content=' lived' additional_kwargs={} response_metadata={} id='run--b18ab1b1-2395-4c6c-a7e4-54cd6d663b54'\n",
      "content=' a' additional_kwargs={} response_metadata={} id='run--b18ab1b1-2395-4c6c-a7e4-54cd6d663b54'\n",
      "content=' young' additional_kwargs={} response_metadata={} id='run--b18ab1b1-2395-4c6c-a7e4-54cd6d663b54'\n",
      "content=' girl' additional_kwargs={} response_metadata={} id='run--b18ab1b1-2395-4c6c-a7e4-54cd6d663b54'\n",
      "content=' named' additional_kwargs={} response_metadata={} id='run--b18ab1b1-2395-4c6c-a7e4-54cd6d663b54'\n",
      "content=' Luna' additional_kwargs={} response_metadata={} id='run--b18ab1b1-2395-4c6c-a7e4-54cd6d663b54'\n",
      "content='.' additional_kwargs={} response_metadata={} id='run--b18ab1b1-2395-4c6c-a7e4-54cd6d663b54'\n",
      "content=' She' additional_kwargs={} response_metadata={} id='run--b18ab1b1-2395-4c6c-a7e4-54cd6d663b54'\n",
      "content=' was' additional_kwargs={} response_metadata={} id='run--b18ab1b1-2395-4c6c-a7e4-54cd6d663b54'\n",
      "content=' known' additional_kwargs={} response_metadata={} id='run--b18ab1b1-2395-4c6c-a7e4-54cd6d663b54'\n",
      "content=' throughout' additional_kwargs={} response_metadata={} id='run--b18ab1b1-2395-4c6c-a7e4-54cd6d663b54'\n",
      "content=' the' additional_kwargs={} response_metadata={} id='run--b18ab1b1-2395-4c6c-a7e4-54cd6d663b54'\n",
      "content=' village' additional_kwargs={} response_metadata={} id='run--b18ab1b1-2395-4c6c-a7e4-54cd6d663b54'\n",
      "content=' for' additional_kwargs={} response_metadata={} id='run--b18ab1b1-2395-4c6c-a7e4-54cd6d663b54'\n",
      "content=' her' additional_kwargs={} response_metadata={} id='run--b18ab1b1-2395-4c6c-a7e4-54cd6d663b54'\n",
      "content=' exceptional' additional_kwargs={} response_metadata={} id='run--b18ab1b1-2395-4c6c-a7e4-54cd6d663b54'\n",
      "content=' talent' additional_kwargs={} response_metadata={} id='run--b18ab1b1-2395-4c6c-a7e4-54cd6d663b54'\n",
      "content=' in' additional_kwargs={} response_metadata={} id='run--b18ab1b1-2395-4c6c-a7e4-54cd6d663b54'\n",
      "content=' weaving' additional_kwargs={} response_metadata={} id='run--b18ab1b1-2395-4c6c-a7e4-54cd6d663b54'\n",
      "content=' and' additional_kwargs={} response_metadata={} id='run--b18ab1b1-2395-4c6c-a7e4-54cd6d663b54'\n",
      "content=' her' additional_kwargs={} response_metadata={} id='run--b18ab1b1-2395-4c6c-a7e4-54cd6d663b54'\n",
      "content=' kind' additional_kwargs={} response_metadata={} id='run--b18ab1b1-2395-4c6c-a7e4-54cd6d663b54'\n",
      "content=' heart' additional_kwargs={} response_metadata={} id='run--b18ab1b1-2395-4c6c-a7e4-54cd6d663b54'\n",
      "content='.\\n\\n' additional_kwargs={} response_metadata={} id='run--b18ab1b1-2395-4c6c-a7e4-54cd6d663b54'\n",
      "content='L' additional_kwargs={} response_metadata={} id='run--b18ab1b1-2395-4c6c-a7e4-54cd6d663b54'\n",
      "content='una' additional_kwargs={} response_metadata={} id='run--b18ab1b1-2395-4c6c-a7e4-54cd6d663b54'\n",
      "content=' spent' additional_kwargs={} response_metadata={} id='run--b18ab1b1-2395-4c6c-a7e4-54cd6d663b54'\n",
      "content=' most' additional_kwargs={} response_metadata={} id='run--b18ab1b1-2395-4c6c-a7e4-54cd6d663b54'\n",
      "content=' of' additional_kwargs={} response_metadata={} id='run--b18ab1b1-2395-4c6c-a7e4-54cd6d663b54'\n",
      "content=' her' additional_kwargs={} response_metadata={} id='run--b18ab1b1-2395-4c6c-a7e4-54cd6d663b54'\n",
      "content=' days' additional_kwargs={} response_metadata={} id='run--b18ab1b1-2395-4c6c-a7e4-54cd6d663b54'\n",
      "content=' in' additional_kwargs={} response_metadata={} id='run--b18ab1b1-2395-4c6c-a7e4-54cd6d663b54'\n",
      "content=' her' additional_kwargs={} response_metadata={} id='run--b18ab1b1-2395-4c6c-a7e4-54cd6d663b54'\n",
      "content=' tiny' additional_kwargs={} response_metadata={} id='run--b18ab1b1-2395-4c6c-a7e4-54cd6d663b54'\n",
      "content=' cottage' additional_kwargs={} response_metadata={} id='run--b18ab1b1-2395-4c6c-a7e4-54cd6d663b54'\n",
      "content=',' additional_kwargs={} response_metadata={} id='run--b18ab1b1-2395-4c6c-a7e4-54cd6d663b54'\n",
      "content=' surrounded' additional_kwargs={} response_metadata={} id='run--b18ab1b1-2395-4c6c-a7e4-54cd6d663b54'\n",
      "content=' by' additional_kwargs={} response_metadata={} id='run--b18ab1b1-2395-4c6c-a7e4-54cd6d663b54'\n",
      "content=' threads' additional_kwargs={} response_metadata={} id='run--b18ab1b1-2395-4c6c-a7e4-54cd6d663b54'\n",
      "content=' of' additional_kwargs={} response_metadata={} id='run--b18ab1b1-2395-4c6c-a7e4-54cd6d663b54'\n",
      "content=' every' additional_kwargs={} response_metadata={} id='run--b18ab1b1-2395-4c6c-a7e4-54cd6d663b54'\n",
      "content=' color' additional_kwargs={} response_metadata={} id='run--b18ab1b1-2395-4c6c-a7e4-54cd6d663b54'\n",
      "content=',' additional_kwargs={} response_metadata={} id='run--b18ab1b1-2395-4c6c-a7e4-54cd6d663b54'\n",
      "content=' yarn' additional_kwargs={} response_metadata={} id='run--b18ab1b1-2395-4c6c-a7e4-54cd6d663b54'\n",
      "content='s' additional_kwargs={} response_metadata={} id='run--b18ab1b1-2395-4c6c-a7e4-54cd6d663b54'\n",
      "content=' of' additional_kwargs={} response_metadata={} id='run--b18ab1b1-2395-4c6c-a7e4-54cd6d663b54'\n",
      "content=' various' additional_kwargs={} response_metadata={} id='run--b18ab1b1-2395-4c6c-a7e4-54cd6d663b54'\n",
      "content=' textures' additional_kwargs={} response_metadata={} id='run--b18ab1b1-2395-4c6c-a7e4-54cd6d663b54'\n",
      "content=',' additional_kwargs={} response_metadata={} id='run--b18ab1b1-2395-4c6c-a7e4-54cd6d663b54'\n",
      "content=' and' additional_kwargs={} response_metadata={} id='run--b18ab1b1-2395-4c6c-a7e4-54cd6d663b54'\n",
      "content=' half' additional_kwargs={} response_metadata={} id='run--b18ab1b1-2395-4c6c-a7e4-54cd6d663b54'\n",
      "content='-f' additional_kwargs={} response_metadata={} id='run--b18ab1b1-2395-4c6c-a7e4-54cd6d663b54'\n",
      "content='inished' additional_kwargs={} response_metadata={} id='run--b18ab1b1-2395-4c6c-a7e4-54cd6d663b54'\n",
      "content=' tape' additional_kwargs={} response_metadata={} id='run--b18ab1b1-2395-4c6c-a7e4-54cd6d663b54'\n",
      "content='st' additional_kwargs={} response_metadata={} id='run--b18ab1b1-2395-4c6c-a7e4-54cd6d663b54'\n",
      "content='ries' additional_kwargs={} response_metadata={} id='run--b18ab1b1-2395-4c6c-a7e4-54cd6d663b54'\n",
      "content='.' additional_kwargs={} response_metadata={} id='run--b18ab1b1-2395-4c6c-a7e4-54cd6d663b54'\n",
      "content=' Her' additional_kwargs={} response_metadata={} id='run--b18ab1b1-2395-4c6c-a7e4-54cd6d663b54'\n",
      "content=' fingers' additional_kwargs={} response_metadata={} id='run--b18ab1b1-2395-4c6c-a7e4-54cd6d663b54'\n",
      "content=' moved' additional_kwargs={} response_metadata={} id='run--b18ab1b1-2395-4c6c-a7e4-54cd6d663b54'\n",
      "content=' def' additional_kwargs={} response_metadata={} id='run--b18ab1b1-2395-4c6c-a7e4-54cd6d663b54'\n",
      "content='t' additional_kwargs={} response_metadata={} id='run--b18ab1b1-2395-4c6c-a7e4-54cd6d663b54'\n",
      "content='ly' additional_kwargs={} response_metadata={} id='run--b18ab1b1-2395-4c6c-a7e4-54cd6d663b54'\n",
      "content=' as' additional_kwargs={} response_metadata={} id='run--b18ab1b1-2395-4c6c-a7e4-54cd6d663b54'\n",
      "content=' she' additional_kwargs={} response_metadata={} id='run--b18ab1b1-2395-4c6c-a7e4-54cd6d663b54'\n",
      "content=' w' additional_kwargs={} response_metadata={} id='run--b18ab1b1-2395-4c6c-a7e4-54cd6d663b54'\n",
      "content='ove' additional_kwargs={} response_metadata={} id='run--b18ab1b1-2395-4c6c-a7e4-54cd6d663b54'\n",
      "content=' the' additional_kwargs={} response_metadata={} id='run--b18ab1b1-2395-4c6c-a7e4-54cd6d663b54'\n",
      "content=' threads' additional_kwargs={} response_metadata={} id='run--b18ab1b1-2395-4c6c-a7e4-54cd6d663b54'\n",
      "content=' into' additional_kwargs={} response_metadata={} id='run--b18ab1b1-2395-4c6c-a7e4-54cd6d663b54'\n",
      "content=' intricate' additional_kwargs={} response_metadata={} id='run--b18ab1b1-2395-4c6c-a7e4-54cd6d663b54'\n",
      "content=' patterns' additional_kwargs={} response_metadata={} id='run--b18ab1b1-2395-4c6c-a7e4-54cd6d663b54'\n",
      "content=',' additional_kwargs={} response_metadata={} id='run--b18ab1b1-2395-4c6c-a7e4-54cd6d663b54'\n",
      "content=' each' additional_kwargs={} response_metadata={} id='run--b18ab1b1-2395-4c6c-a7e4-54cd6d663b54'\n",
      "content=' one' additional_kwargs={} response_metadata={} id='run--b18ab1b1-2395-4c6c-a7e4-54cd6d663b54'\n",
      "content=' telling' additional_kwargs={} response_metadata={} id='run--b18ab1b1-2395-4c6c-a7e4-54cd6d663b54'\n",
      "content=' a' additional_kwargs={} response_metadata={} id='run--b18ab1b1-2395-4c6c-a7e4-54cd6d663b54'\n",
      "content=' story' additional_kwargs={} response_metadata={} id='run--b18ab1b1-2395-4c6c-a7e4-54cd6d663b54'\n",
      "content=' of' additional_kwargs={} response_metadata={} id='run--b18ab1b1-2395-4c6c-a7e4-54cd6d663b54'\n",
      "content=' its' additional_kwargs={} response_metadata={} id='run--b18ab1b1-2395-4c6c-a7e4-54cd6d663b54'\n",
      "content=' own' additional_kwargs={} response_metadata={} id='run--b18ab1b1-2395-4c6c-a7e4-54cd6d663b54'\n",
      "content='.\\n\\n' additional_kwargs={} response_metadata={} id='run--b18ab1b1-2395-4c6c-a7e4-54cd6d663b54'\n",
      "content='One' additional_kwargs={} response_metadata={} id='run--b18ab1b1-2395-4c6c-a7e4-54cd6d663b54'\n",
      "content=' day' additional_kwargs={} response_metadata={} id='run--b18ab1b1-2395-4c6c-a7e4-54cd6d663b54'\n",
      "content=',' additional_kwargs={} response_metadata={} id='run--b18ab1b1-2395-4c6c-a7e4-54cd6d663b54'\n",
      "content=' a' additional_kwargs={} response_metadata={} id='run--b18ab1b1-2395-4c6c-a7e4-54cd6d663b54'\n",
      "content=' fierce' additional_kwargs={} response_metadata={} id='run--b18ab1b1-2395-4c6c-a7e4-54cd6d663b54'\n",
      "content=' storm' additional_kwargs={} response_metadata={} id='run--b18ab1b1-2395-4c6c-a7e4-54cd6d663b54'\n",
      "content=' swept' additional_kwargs={} response_metadata={} id='run--b18ab1b1-2395-4c6c-a7e4-54cd6d663b54'\n",
      "content=' through' additional_kwargs={} response_metadata={} id='run--b18ab1b1-2395-4c6c-a7e4-54cd6d663b54'\n",
      "content=' the' additional_kwargs={} response_metadata={} id='run--b18ab1b1-2395-4c6c-a7e4-54cd6d663b54'\n",
      "content=' village' additional_kwargs={} response_metadata={} id='run--b18ab1b1-2395-4c6c-a7e4-54cd6d663b54'\n",
      "content=',' additional_kwargs={} response_metadata={} id='run--b18ab1b1-2395-4c6c-a7e4-54cd6d663b54'\n",
      "content=' bringing' additional_kwargs={} response_metadata={} id='run--b18ab1b1-2395-4c6c-a7e4-54cd6d663b54'\n",
      "content=' with' additional_kwargs={} response_metadata={} id='run--b18ab1b1-2395-4c6c-a7e4-54cd6d663b54'\n",
      "content=' it' additional_kwargs={} response_metadata={} id='run--b18ab1b1-2395-4c6c-a7e4-54cd6d663b54'\n",
      "content=' strong' additional_kwargs={} response_metadata={} id='run--b18ab1b1-2395-4c6c-a7e4-54cd6d663b54'\n",
      "content=' winds' additional_kwargs={} response_metadata={} id='run--b18ab1b1-2395-4c6c-a7e4-54cd6d663b54'\n",
      "content=' and' additional_kwargs={} response_metadata={} id='run--b18ab1b1-2395-4c6c-a7e4-54cd6d663b54'\n",
      "content=' heavy' additional_kwargs={} response_metadata={} id='run--b18ab1b1-2395-4c6c-a7e4-54cd6d663b54'\n",
      "content=' rains' additional_kwargs={} response_metadata={} id='run--b18ab1b1-2395-4c6c-a7e4-54cd6d663b54'\n",
      "content='.' additional_kwargs={} response_metadata={} id='run--b18ab1b1-2395-4c6c-a7e4-54cd6d663b54'\n",
      "content=' The' additional_kwargs={} response_metadata={} id='run--b18ab1b1-2395-4c6c-a7e4-54cd6d663b54'\n",
      "content=' villagers' additional_kwargs={} response_metadata={} id='run--b18ab1b1-2395-4c6c-a7e4-54cd6d663b54'\n",
      "content=' h' additional_kwargs={} response_metadata={} id='run--b18ab1b1-2395-4c6c-a7e4-54cd6d663b54'\n",
      "content='uddled' additional_kwargs={} response_metadata={} id='run--b18ab1b1-2395-4c6c-a7e4-54cd6d663b54'\n",
      "content=' in' additional_kwargs={} response_metadata={} id='run--b18ab1b1-2395-4c6c-a7e4-54cd6d663b54'\n",
      "content=' their' additional_kwargs={} response_metadata={} id='run--b18ab1b1-2395-4c6c-a7e4-54cd6d663b54'\n",
      "content=' homes' additional_kwargs={} response_metadata={} id='run--b18ab1b1-2395-4c6c-a7e4-54cd6d663b54'\n",
      "content=',' additional_kwargs={} response_metadata={} id='run--b18ab1b1-2395-4c6c-a7e4-54cd6d663b54'\n",
      "content=' waiting' additional_kwargs={} response_metadata={} id='run--b18ab1b1-2395-4c6c-a7e4-54cd6d663b54'\n",
      "content=' for' additional_kwargs={} response_metadata={} id='run--b18ab1b1-2395-4c6c-a7e4-54cd6d663b54'\n",
      "content=' the' additional_kwargs={} response_metadata={} id='run--b18ab1b1-2395-4c6c-a7e4-54cd6d663b54'\n",
      "content=' storm' additional_kwargs={} response_metadata={} id='run--b18ab1b1-2395-4c6c-a7e4-54cd6d663b54'\n",
      "content=' to' additional_kwargs={} response_metadata={} id='run--b18ab1b1-2395-4c6c-a7e4-54cd6d663b54'\n",
      "content=' pass' additional_kwargs={} response_metadata={} id='run--b18ab1b1-2395-4c6c-a7e4-54cd6d663b54'\n",
      "content='.' additional_kwargs={} response_metadata={} id='run--b18ab1b1-2395-4c6c-a7e4-54cd6d663b54'\n",
      "content=' But' additional_kwargs={} response_metadata={} id='run--b18ab1b1-2395-4c6c-a7e4-54cd6d663b54'\n",
      "content=' Luna' additional_kwargs={} response_metadata={} id='run--b18ab1b1-2395-4c6c-a7e4-54cd6d663b54'\n",
      "content=',' additional_kwargs={} response_metadata={} id='run--b18ab1b1-2395-4c6c-a7e4-54cd6d663b54'\n",
      "content=' sensing' additional_kwargs={} response_metadata={} id='run--b18ab1b1-2395-4c6c-a7e4-54cd6d663b54'\n",
      "content=' the' additional_kwargs={} response_metadata={} id='run--b18ab1b1-2395-4c6c-a7e4-54cd6d663b54'\n",
      "content=' desperation' additional_kwargs={} response_metadata={} id='run--b18ab1b1-2395-4c6c-a7e4-54cd6d663b54'\n",
      "content=' in' additional_kwargs={} response_metadata={} id='run--b18ab1b1-2395-4c6c-a7e4-54cd6d663b54'\n",
      "content=' the' additional_kwargs={} response_metadata={} id='run--b18ab1b1-2395-4c6c-a7e4-54cd6d663b54'\n",
      "content=' hearts' additional_kwargs={} response_metadata={} id='run--b18ab1b1-2395-4c6c-a7e4-54cd6d663b54'\n",
      "content=' of' additional_kwargs={} response_metadata={} id='run--b18ab1b1-2395-4c6c-a7e4-54cd6d663b54'\n",
      "content=' her' additional_kwargs={} response_metadata={} id='run--b18ab1b1-2395-4c6c-a7e4-54cd6d663b54'\n",
      "content=' neighbors' additional_kwargs={} response_metadata={} id='run--b18ab1b1-2395-4c6c-a7e4-54cd6d663b54'\n",
      "content=',' additional_kwargs={} response_metadata={} id='run--b18ab1b1-2395-4c6c-a7e4-54cd6d663b54'\n",
      "content=' knew' additional_kwargs={} response_metadata={} id='run--b18ab1b1-2395-4c6c-a7e4-54cd6d663b54'\n",
      "content=' she' additional_kwargs={} response_metadata={} id='run--b18ab1b1-2395-4c6c-a7e4-54cd6d663b54'\n",
      "content=' had' additional_kwargs={} response_metadata={} id='run--b18ab1b1-2395-4c6c-a7e4-54cd6d663b54'\n",
      "content=' to' additional_kwargs={} response_metadata={} id='run--b18ab1b1-2395-4c6c-a7e4-54cd6d663b54'\n",
      "content=' do' additional_kwargs={} response_metadata={} id='run--b18ab1b1-2395-4c6c-a7e4-54cd6d663b54'\n",
      "content=' something' additional_kwargs={} response_metadata={} id='run--b18ab1b1-2395-4c6c-a7e4-54cd6d663b54'\n",
      "content='.\\n\\n' additional_kwargs={} response_metadata={} id='run--b18ab1b1-2395-4c6c-a7e4-54cd6d663b54'\n",
      "content='She' additional_kwargs={} response_metadata={} id='run--b18ab1b1-2395-4c6c-a7e4-54cd6d663b54'\n",
      "content=' quickly' additional_kwargs={} response_metadata={} id='run--b18ab1b1-2395-4c6c-a7e4-54cd6d663b54'\n",
      "content=' gathered' additional_kwargs={} response_metadata={} id='run--b18ab1b1-2395-4c6c-a7e4-54cd6d663b54'\n",
      "content=' her' additional_kwargs={} response_metadata={} id='run--b18ab1b1-2395-4c6c-a7e4-54cd6d663b54'\n",
      "content=' threads' additional_kwargs={} response_metadata={} id='run--b18ab1b1-2395-4c6c-a7e4-54cd6d663b54'\n",
      "content=' and' additional_kwargs={} response_metadata={} id='run--b18ab1b1-2395-4c6c-a7e4-54cd6d663b54'\n",
      "content=' yarn' additional_kwargs={} response_metadata={} id='run--b18ab1b1-2395-4c6c-a7e4-54cd6d663b54'\n",
      "content='s' additional_kwargs={} response_metadata={} id='run--b18ab1b1-2395-4c6c-a7e4-54cd6d663b54'\n",
      "content=',' additional_kwargs={} response_metadata={} id='run--b18ab1b1-2395-4c6c-a7e4-54cd6d663b54'\n",
      "content=' and' additional_kwargs={} response_metadata={} id='run--b18ab1b1-2395-4c6c-a7e4-54cd6d663b54'\n",
      "content=' began' additional_kwargs={} response_metadata={} id='run--b18ab1b1-2395-4c6c-a7e4-54cd6d663b54'\n",
      "content=' to' additional_kwargs={} response_metadata={} id='run--b18ab1b1-2395-4c6c-a7e4-54cd6d663b54'\n",
      "content=' weave' additional_kwargs={} response_metadata={} id='run--b18ab1b1-2395-4c6c-a7e4-54cd6d663b54'\n",
      "content=' a' additional_kwargs={} response_metadata={} id='run--b18ab1b1-2395-4c6c-a7e4-54cd6d663b54'\n",
      "content=' special' additional_kwargs={} response_metadata={} id='run--b18ab1b1-2395-4c6c-a7e4-54cd6d663b54'\n",
      "content=' tape' additional_kwargs={} response_metadata={} id='run--b18ab1b1-2395-4c6c-a7e4-54cd6d663b54'\n",
      "content='stry' additional_kwargs={} response_metadata={} id='run--b18ab1b1-2395-4c6c-a7e4-54cd6d663b54'\n",
      "content='.' additional_kwargs={} response_metadata={} id='run--b18ab1b1-2395-4c6c-a7e4-54cd6d663b54'\n",
      "content=' As' additional_kwargs={} response_metadata={} id='run--b18ab1b1-2395-4c6c-a7e4-54cd6d663b54'\n",
      "content=' she' additional_kwargs={} response_metadata={} id='run--b18ab1b1-2395-4c6c-a7e4-54cd6d663b54'\n",
      "content=' worked' additional_kwargs={} response_metadata={} id='run--b18ab1b1-2395-4c6c-a7e4-54cd6d663b54'\n",
      "content=',' additional_kwargs={} response_metadata={} id='run--b18ab1b1-2395-4c6c-a7e4-54cd6d663b54'\n",
      "content=' she' additional_kwargs={} response_metadata={} id='run--b18ab1b1-2395-4c6c-a7e4-54cd6d663b54'\n",
      "content=' whispered' additional_kwargs={} response_metadata={} id='run--b18ab1b1-2395-4c6c-a7e4-54cd6d663b54'\n",
      "content=' a' additional_kwargs={} response_metadata={} id='run--b18ab1b1-2395-4c6c-a7e4-54cd6d663b54'\n",
      "content=' gentle' additional_kwargs={} response_metadata={} id='run--b18ab1b1-2395-4c6c-a7e4-54cd6d663b54'\n",
      "content=' prayer' additional_kwargs={} response_metadata={} id='run--b18ab1b1-2395-4c6c-a7e4-54cd6d663b54'\n",
      "content=' to' additional_kwargs={} response_metadata={} id='run--b18ab1b1-2395-4c6c-a7e4-54cd6d663b54'\n",
      "content=' the' additional_kwargs={} response_metadata={} id='run--b18ab1b1-2395-4c6c-a7e4-54cd6d663b54'\n",
      "content=' gods' additional_kwargs={} response_metadata={} id='run--b18ab1b1-2395-4c6c-a7e4-54cd6d663b54'\n",
      "content=',' additional_kwargs={} response_metadata={} id='run--b18ab1b1-2395-4c6c-a7e4-54cd6d663b54'\n",
      "content=' asking' additional_kwargs={} response_metadata={} id='run--b18ab1b1-2395-4c6c-a7e4-54cd6d663b54'\n",
      "content=' for' additional_kwargs={} response_metadata={} id='run--b18ab1b1-2395-4c6c-a7e4-54cd6d663b54'\n",
      "content=' their' additional_kwargs={} response_metadata={} id='run--b18ab1b1-2395-4c6c-a7e4-54cd6d663b54'\n",
      "content=' protection' additional_kwargs={} response_metadata={} id='run--b18ab1b1-2395-4c6c-a7e4-54cd6d663b54'\n",
      "content=' and' additional_kwargs={} response_metadata={} id='run--b18ab1b1-2395-4c6c-a7e4-54cd6d663b54'\n",
      "content=' guidance' additional_kwargs={} response_metadata={} id='run--b18ab1b1-2395-4c6c-a7e4-54cd6d663b54'\n",
      "content='.' additional_kwargs={} response_metadata={} id='run--b18ab1b1-2395-4c6c-a7e4-54cd6d663b54'\n",
      "content=' The' additional_kwargs={} response_metadata={} id='run--b18ab1b1-2395-4c6c-a7e4-54cd6d663b54'\n",
      "content=' threads' additional_kwargs={} response_metadata={} id='run--b18ab1b1-2395-4c6c-a7e4-54cd6d663b54'\n",
      "content=' seemed' additional_kwargs={} response_metadata={} id='run--b18ab1b1-2395-4c6c-a7e4-54cd6d663b54'\n",
      "content=' to' additional_kwargs={} response_metadata={} id='run--b18ab1b1-2395-4c6c-a7e4-54cd6d663b54'\n",
      "content=' dance' additional_kwargs={} response_metadata={} id='run--b18ab1b1-2395-4c6c-a7e4-54cd6d663b54'\n",
      "content=' in' additional_kwargs={} response_metadata={} id='run--b18ab1b1-2395-4c6c-a7e4-54cd6d663b54'\n",
      "content=' her' additional_kwargs={} response_metadata={} id='run--b18ab1b1-2395-4c6c-a7e4-54cd6d663b54'\n",
      "content=' hands' additional_kwargs={} response_metadata={} id='run--b18ab1b1-2395-4c6c-a7e4-54cd6d663b54'\n",
      "content=',' additional_kwargs={} response_metadata={} id='run--b18ab1b1-2395-4c6c-a7e4-54cd6d663b54'\n",
      "content=' weaving' additional_kwargs={} response_metadata={} id='run--b18ab1b1-2395-4c6c-a7e4-54cd6d663b54'\n",
      "content=' together' additional_kwargs={} response_metadata={} id='run--b18ab1b1-2395-4c6c-a7e4-54cd6d663b54'\n",
      "content=' a' additional_kwargs={} response_metadata={} id='run--b18ab1b1-2395-4c6c-a7e4-54cd6d663b54'\n",
      "content=' powerful' additional_kwargs={} response_metadata={} id='run--b18ab1b1-2395-4c6c-a7e4-54cd6d663b54'\n",
      "content=' symbol' additional_kwargs={} response_metadata={} id='run--b18ab1b1-2395-4c6c-a7e4-54cd6d663b54'\n",
      "content=' of' additional_kwargs={} response_metadata={} id='run--b18ab1b1-2395-4c6c-a7e4-54cd6d663b54'\n",
      "content=' hope' additional_kwargs={} response_metadata={} id='run--b18ab1b1-2395-4c6c-a7e4-54cd6d663b54'\n",
      "content=' and' additional_kwargs={} response_metadata={} id='run--b18ab1b1-2395-4c6c-a7e4-54cd6d663b54'\n",
      "content=' resilience' additional_kwargs={} response_metadata={} id='run--b18ab1b1-2395-4c6c-a7e4-54cd6d663b54'\n",
      "content='.\\n\\n' additional_kwargs={} response_metadata={} id='run--b18ab1b1-2395-4c6c-a7e4-54cd6d663b54'\n",
      "content='When' additional_kwargs={} response_metadata={} id='run--b18ab1b1-2395-4c6c-a7e4-54cd6d663b54'\n",
      "content=' the' additional_kwargs={} response_metadata={} id='run--b18ab1b1-2395-4c6c-a7e4-54cd6d663b54'\n",
      "content=' storm' additional_kwargs={} response_metadata={} id='run--b18ab1b1-2395-4c6c-a7e4-54cd6d663b54'\n",
      "content=' finally' additional_kwargs={} response_metadata={} id='run--b18ab1b1-2395-4c6c-a7e4-54cd6d663b54'\n",
      "content=' subs' additional_kwargs={} response_metadata={} id='run--b18ab1b1-2395-4c6c-a7e4-54cd6d663b54'\n",
      "content='ided' additional_kwargs={} response_metadata={} id='run--b18ab1b1-2395-4c6c-a7e4-54cd6d663b54'\n",
      "content=',' additional_kwargs={} response_metadata={} id='run--b18ab1b1-2395-4c6c-a7e4-54cd6d663b54'\n",
      "content=' Luna' additional_kwargs={} response_metadata={} id='run--b18ab1b1-2395-4c6c-a7e4-54cd6d663b54'\n",
      "content=' emerged' additional_kwargs={} response_metadata={} id='run--b18ab1b1-2395-4c6c-a7e4-54cd6d663b54'\n",
      "content=' from' additional_kwargs={} response_metadata={} id='run--b18ab1b1-2395-4c6c-a7e4-54cd6d663b54'\n",
      "content=' her' additional_kwargs={} response_metadata={} id='run--b18ab1b1-2395-4c6c-a7e4-54cd6d663b54'\n",
      "content=' cottage' additional_kwargs={} response_metadata={} id='run--b18ab1b1-2395-4c6c-a7e4-54cd6d663b54'\n",
      "content=',' additional_kwargs={} response_metadata={} id='run--b18ab1b1-2395-4c6c-a7e4-54cd6d663b54'\n",
      "content=' carrying' additional_kwargs={} response_metadata={} id='run--b18ab1b1-2395-4c6c-a7e4-54cd6d663b54'\n",
      "content=' the' additional_kwargs={} response_metadata={} id='run--b18ab1b1-2395-4c6c-a7e4-54cd6d663b54'\n",
      "content=' finished' additional_kwargs={} response_metadata={} id='run--b18ab1b1-2395-4c6c-a7e4-54cd6d663b54'\n",
      "content=' tape' additional_kwargs={} response_metadata={} id='run--b18ab1b1-2395-4c6c-a7e4-54cd6d663b54'\n",
      "content='stry' additional_kwargs={} response_metadata={} id='run--b18ab1b1-2395-4c6c-a7e4-54cd6d663b54'\n",
      "content='.' additional_kwargs={} response_metadata={} id='run--b18ab1b1-2395-4c6c-a7e4-54cd6d663b54'\n",
      "content=' She' additional_kwargs={} response_metadata={} id='run--b18ab1b1-2395-4c6c-a7e4-54cd6d663b54'\n",
      "content=' draped' additional_kwargs={} response_metadata={} id='run--b18ab1b1-2395-4c6c-a7e4-54cd6d663b54'\n",
      "content=' it' additional_kwargs={} response_metadata={} id='run--b18ab1b1-2395-4c6c-a7e4-54cd6d663b54'\n",
      "content=' across' additional_kwargs={} response_metadata={} id='run--b18ab1b1-2395-4c6c-a7e4-54cd6d663b54'\n",
      "content=' the' additional_kwargs={} response_metadata={} id='run--b18ab1b1-2395-4c6c-a7e4-54cd6d663b54'\n",
      "content=' village' additional_kwargs={} response_metadata={} id='run--b18ab1b1-2395-4c6c-a7e4-54cd6d663b54'\n",
      "content=' square' additional_kwargs={} response_metadata={} id='run--b18ab1b1-2395-4c6c-a7e4-54cd6d663b54'\n",
      "content=',' additional_kwargs={} response_metadata={} id='run--b18ab1b1-2395-4c6c-a7e4-54cd6d663b54'\n",
      "content=' where' additional_kwargs={} response_metadata={} id='run--b18ab1b1-2395-4c6c-a7e4-54cd6d663b54'\n",
      "content=' it' additional_kwargs={} response_metadata={} id='run--b18ab1b1-2395-4c6c-a7e4-54cd6d663b54'\n",
      "content=' flutter' additional_kwargs={} response_metadata={} id='run--b18ab1b1-2395-4c6c-a7e4-54cd6d663b54'\n",
      "content='ed' additional_kwargs={} response_metadata={} id='run--b18ab1b1-2395-4c6c-a7e4-54cd6d663b54'\n",
      "content=' in' additional_kwargs={} response_metadata={} id='run--b18ab1b1-2395-4c6c-a7e4-54cd6d663b54'\n",
      "content=' the' additional_kwargs={} response_metadata={} id='run--b18ab1b1-2395-4c6c-a7e4-54cd6d663b54'\n",
      "content=' gentle' additional_kwargs={} response_metadata={} id='run--b18ab1b1-2395-4c6c-a7e4-54cd6d663b54'\n",
      "content=' breeze' additional_kwargs={} response_metadata={} id='run--b18ab1b1-2395-4c6c-a7e4-54cd6d663b54'\n",
      "content='.' additional_kwargs={} response_metadata={} id='run--b18ab1b1-2395-4c6c-a7e4-54cd6d663b54'\n",
      "content=' The' additional_kwargs={} response_metadata={} id='run--b18ab1b1-2395-4c6c-a7e4-54cd6d663b54'\n",
      "content=' villagers' additional_kwargs={} response_metadata={} id='run--b18ab1b1-2395-4c6c-a7e4-54cd6d663b54'\n",
      "content=',' additional_kwargs={} response_metadata={} id='run--b18ab1b1-2395-4c6c-a7e4-54cd6d663b54'\n",
      "content=' drawn' additional_kwargs={} response_metadata={} id='run--b18ab1b1-2395-4c6c-a7e4-54cd6d663b54'\n",
      "content=' by' additional_kwargs={} response_metadata={} id='run--b18ab1b1-2395-4c6c-a7e4-54cd6d663b54'\n",
      "content=' the' additional_kwargs={} response_metadata={} id='run--b18ab1b1-2395-4c6c-a7e4-54cd6d663b54'\n",
      "content=' sight' additional_kwargs={} response_metadata={} id='run--b18ab1b1-2395-4c6c-a7e4-54cd6d663b54'\n",
      "content=' of' additional_kwargs={} response_metadata={} id='run--b18ab1b1-2395-4c6c-a7e4-54cd6d663b54'\n",
      "content=' the' additional_kwargs={} response_metadata={} id='run--b18ab1b1-2395-4c6c-a7e4-54cd6d663b54'\n",
      "content=' tape' additional_kwargs={} response_metadata={} id='run--b18ab1b1-2395-4c6c-a7e4-54cd6d663b54'\n",
      "content='stry' additional_kwargs={} response_metadata={} id='run--b18ab1b1-2395-4c6c-a7e4-54cd6d663b54'\n",
      "content=',' additional_kwargs={} response_metadata={} id='run--b18ab1b1-2395-4c6c-a7e4-54cd6d663b54'\n",
      "content=' gathered' additional_kwargs={} response_metadata={} id='run--b18ab1b1-2395-4c6c-a7e4-54cd6d663b54'\n",
      "content=' around' additional_kwargs={} response_metadata={} id='run--b18ab1b1-2395-4c6c-a7e4-54cd6d663b54'\n",
      "content=' Luna' additional_kwargs={} response_metadata={} id='run--b18ab1b1-2395-4c6c-a7e4-54cd6d663b54'\n",
      "content=',' additional_kwargs={} response_metadata={} id='run--b18ab1b1-2395-4c6c-a7e4-54cd6d663b54'\n",
      "content=' marvel' additional_kwargs={} response_metadata={} id='run--b18ab1b1-2395-4c6c-a7e4-54cd6d663b54'\n",
      "content='ing' additional_kwargs={} response_metadata={} id='run--b18ab1b1-2395-4c6c-a7e4-54cd6d663b54'\n",
      "content=' at' additional_kwargs={} response_metadata={} id='run--b18ab1b1-2395-4c6c-a7e4-54cd6d663b54'\n",
      "content=' its' additional_kwargs={} response_metadata={} id='run--b18ab1b1-2395-4c6c-a7e4-54cd6d663b54'\n",
      "content=' beauty' additional_kwargs={} response_metadata={} id='run--b18ab1b1-2395-4c6c-a7e4-54cd6d663b54'\n",
      "content='.\\n\\n' additional_kwargs={} response_metadata={} id='run--b18ab1b1-2395-4c6c-a7e4-54cd6d663b54'\n",
      "content='As' additional_kwargs={} response_metadata={} id='run--b18ab1b1-2395-4c6c-a7e4-54cd6d663b54'\n",
      "content=' they' additional_kwargs={} response_metadata={} id='run--b18ab1b1-2395-4c6c-a7e4-54cd6d663b54'\n",
      "content=' g' additional_kwargs={} response_metadata={} id='run--b18ab1b1-2395-4c6c-a7e4-54cd6d663b54'\n",
      "content='azed' additional_kwargs={} response_metadata={} id='run--b18ab1b1-2395-4c6c-a7e4-54cd6d663b54'\n",
      "content=' at' additional_kwargs={} response_metadata={} id='run--b18ab1b1-2395-4c6c-a7e4-54cd6d663b54'\n",
      "content=' the' additional_kwargs={} response_metadata={} id='run--b18ab1b1-2395-4c6c-a7e4-54cd6d663b54'\n",
      "content=' tape' additional_kwargs={} response_metadata={} id='run--b18ab1b1-2395-4c6c-a7e4-54cd6d663b54'\n",
      "content='stry' additional_kwargs={} response_metadata={} id='run--b18ab1b1-2395-4c6c-a7e4-54cd6d663b54'\n",
      "content=',' additional_kwargs={} response_metadata={} id='run--b18ab1b1-2395-4c6c-a7e4-54cd6d663b54'\n",
      "content=' they' additional_kwargs={} response_metadata={} id='run--b18ab1b1-2395-4c6c-a7e4-54cd6d663b54'\n",
      "content=' felt' additional_kwargs={} response_metadata={} id='run--b18ab1b1-2395-4c6c-a7e4-54cd6d663b54'\n",
      "content=' a' additional_kwargs={} response_metadata={} id='run--b18ab1b1-2395-4c6c-a7e4-54cd6d663b54'\n",
      "content=' sense' additional_kwargs={} response_metadata={} id='run--b18ab1b1-2395-4c6c-a7e4-54cd6d663b54'\n",
      "content=' of' additional_kwargs={} response_metadata={} id='run--b18ab1b1-2395-4c6c-a7e4-54cd6d663b54'\n",
      "content=' peace' additional_kwargs={} response_metadata={} id='run--b18ab1b1-2395-4c6c-a7e4-54cd6d663b54'\n",
      "content=' and' additional_kwargs={} response_metadata={} id='run--b18ab1b1-2395-4c6c-a7e4-54cd6d663b54'\n",
      "content=' unity' additional_kwargs={} response_metadata={} id='run--b18ab1b1-2395-4c6c-a7e4-54cd6d663b54'\n",
      "content=' wash' additional_kwargs={} response_metadata={} id='run--b18ab1b1-2395-4c6c-a7e4-54cd6d663b54'\n",
      "content=' over' additional_kwargs={} response_metadata={} id='run--b18ab1b1-2395-4c6c-a7e4-54cd6d663b54'\n",
      "content=' them' additional_kwargs={} response_metadata={} id='run--b18ab1b1-2395-4c6c-a7e4-54cd6d663b54'\n",
      "content='.' additional_kwargs={} response_metadata={} id='run--b18ab1b1-2395-4c6c-a7e4-54cd6d663b54'\n",
      "content=' The' additional_kwargs={} response_metadata={} id='run--b18ab1b1-2395-4c6c-a7e4-54cd6d663b54'\n",
      "content=' threads' additional_kwargs={} response_metadata={} id='run--b18ab1b1-2395-4c6c-a7e4-54cd6d663b54'\n",
      "content=' seemed' additional_kwargs={} response_metadata={} id='run--b18ab1b1-2395-4c6c-a7e4-54cd6d663b54'\n",
      "content=' to' additional_kwargs={} response_metadata={} id='run--b18ab1b1-2395-4c6c-a7e4-54cd6d663b54'\n",
      "content=' weave' additional_kwargs={} response_metadata={} id='run--b18ab1b1-2395-4c6c-a7e4-54cd6d663b54'\n",
      "content=' together' additional_kwargs={} response_metadata={} id='run--b18ab1b1-2395-4c6c-a7e4-54cd6d663b54'\n",
      "content=' their' additional_kwargs={} response_metadata={} id='run--b18ab1b1-2395-4c6c-a7e4-54cd6d663b54'\n",
      "content=' stories' additional_kwargs={} response_metadata={} id='run--b18ab1b1-2395-4c6c-a7e4-54cd6d663b54'\n",
      "content=',' additional_kwargs={} response_metadata={} id='run--b18ab1b1-2395-4c6c-a7e4-54cd6d663b54'\n",
      "content=' their' additional_kwargs={} response_metadata={} id='run--b18ab1b1-2395-4c6c-a7e4-54cd6d663b54'\n",
      "content=' struggles' additional_kwargs={} response_metadata={} id='run--b18ab1b1-2395-4c6c-a7e4-54cd6d663b54'\n",
      "content=',' additional_kwargs={} response_metadata={} id='run--b18ab1b1-2395-4c6c-a7e4-54cd6d663b54'\n",
      "content=' and' additional_kwargs={} response_metadata={} id='run--b18ab1b1-2395-4c6c-a7e4-54cd6d663b54'\n",
      "content=' their' additional_kwargs={} response_metadata={} id='run--b18ab1b1-2395-4c6c-a7e4-54cd6d663b54'\n",
      "content=' triumph' additional_kwargs={} response_metadata={} id='run--b18ab1b1-2395-4c6c-a7e4-54cd6d663b54'\n",
      "content='s' additional_kwargs={} response_metadata={} id='run--b18ab1b1-2395-4c6c-a7e4-54cd6d663b54'\n",
      "content='.' additional_kwargs={} response_metadata={} id='run--b18ab1b1-2395-4c6c-a7e4-54cd6d663b54'\n",
      "content=' The' additional_kwargs={} response_metadata={} id='run--b18ab1b1-2395-4c6c-a7e4-54cd6d663b54'\n",
      "content=' villagers' additional_kwargs={} response_metadata={} id='run--b18ab1b1-2395-4c6c-a7e4-54cd6d663b54'\n",
      "content=' knew' additional_kwargs={} response_metadata={} id='run--b18ab1b1-2395-4c6c-a7e4-54cd6d663b54'\n",
      "content=',' additional_kwargs={} response_metadata={} id='run--b18ab1b1-2395-4c6c-a7e4-54cd6d663b54'\n",
      "content=' in' additional_kwargs={} response_metadata={} id='run--b18ab1b1-2395-4c6c-a7e4-54cd6d663b54'\n",
      "content=' that' additional_kwargs={} response_metadata={} id='run--b18ab1b1-2395-4c6c-a7e4-54cd6d663b54'\n",
      "content=' moment' additional_kwargs={} response_metadata={} id='run--b18ab1b1-2395-4c6c-a7e4-54cd6d663b54'\n",
      "content=',' additional_kwargs={} response_metadata={} id='run--b18ab1b1-2395-4c6c-a7e4-54cd6d663b54'\n",
      "content=' that' additional_kwargs={} response_metadata={} id='run--b18ab1b1-2395-4c6c-a7e4-54cd6d663b54'\n",
      "content=' they' additional_kwargs={} response_metadata={} id='run--b18ab1b1-2395-4c6c-a7e4-54cd6d663b54'\n",
      "content=' were' additional_kwargs={} response_metadata={} id='run--b18ab1b1-2395-4c6c-a7e4-54cd6d663b54'\n",
      "content=' not' additional_kwargs={} response_metadata={} id='run--b18ab1b1-2395-4c6c-a7e4-54cd6d663b54'\n",
      "content=' alone' additional_kwargs={} response_metadata={} id='run--b18ab1b1-2395-4c6c-a7e4-54cd6d663b54'\n",
      "content=',' additional_kwargs={} response_metadata={} id='run--b18ab1b1-2395-4c6c-a7e4-54cd6d663b54'\n",
      "content=' and' additional_kwargs={} response_metadata={} id='run--b18ab1b1-2395-4c6c-a7e4-54cd6d663b54'\n",
      "content=' that' additional_kwargs={} response_metadata={} id='run--b18ab1b1-2395-4c6c-a7e4-54cd6d663b54'\n",
      "content=' Luna' additional_kwargs={} response_metadata={} id='run--b18ab1b1-2395-4c6c-a7e4-54cd6d663b54'\n",
      "content=\"'s\" additional_kwargs={} response_metadata={} id='run--b18ab1b1-2395-4c6c-a7e4-54cd6d663b54'\n",
      "content=' tape' additional_kwargs={} response_metadata={} id='run--b18ab1b1-2395-4c6c-a7e4-54cd6d663b54'\n",
      "content='stry' additional_kwargs={} response_metadata={} id='run--b18ab1b1-2395-4c6c-a7e4-54cd6d663b54'\n",
      "content=' had' additional_kwargs={} response_metadata={} id='run--b18ab1b1-2395-4c6c-a7e4-54cd6d663b54'\n",
      "content=' brought' additional_kwargs={} response_metadata={} id='run--b18ab1b1-2395-4c6c-a7e4-54cd6d663b54'\n",
      "content=' them' additional_kwargs={} response_metadata={} id='run--b18ab1b1-2395-4c6c-a7e4-54cd6d663b54'\n",
      "content=' together' additional_kwargs={} response_metadata={} id='run--b18ab1b1-2395-4c6c-a7e4-54cd6d663b54'\n",
      "content='.\\n\\n' additional_kwargs={} response_metadata={} id='run--b18ab1b1-2395-4c6c-a7e4-54cd6d663b54'\n",
      "content='From' additional_kwargs={} response_metadata={} id='run--b18ab1b1-2395-4c6c-a7e4-54cd6d663b54'\n",
      "content=' that' additional_kwargs={} response_metadata={} id='run--b18ab1b1-2395-4c6c-a7e4-54cd6d663b54'\n",
      "content=' day' additional_kwargs={} response_metadata={} id='run--b18ab1b1-2395-4c6c-a7e4-54cd6d663b54'\n",
      "content=' on' additional_kwargs={} response_metadata={} id='run--b18ab1b1-2395-4c6c-a7e4-54cd6d663b54'\n",
      "content=',' additional_kwargs={} response_metadata={} id='run--b18ab1b1-2395-4c6c-a7e4-54cd6d663b54'\n",
      "content=' Luna' additional_kwargs={} response_metadata={} id='run--b18ab1b1-2395-4c6c-a7e4-54cd6d663b54'\n",
      "content=\"'s\" additional_kwargs={} response_metadata={} id='run--b18ab1b1-2395-4c6c-a7e4-54cd6d663b54'\n",
      "content=' tape' additional_kwargs={} response_metadata={} id='run--b18ab1b1-2395-4c6c-a7e4-54cd6d663b54'\n",
      "content='st' additional_kwargs={} response_metadata={} id='run--b18ab1b1-2395-4c6c-a7e4-54cd6d663b54'\n",
      "content='ries' additional_kwargs={} response_metadata={} id='run--b18ab1b1-2395-4c6c-a7e4-54cd6d663b54'\n",
      "content=' became' additional_kwargs={} response_metadata={} id='run--b18ab1b1-2395-4c6c-a7e4-54cd6d663b54'\n",
      "content=' a' additional_kwargs={} response_metadata={} id='run--b18ab1b1-2395-4c6c-a7e4-54cd6d663b54'\n",
      "content=' symbol' additional_kwargs={} response_metadata={} id='run--b18ab1b1-2395-4c6c-a7e4-54cd6d663b54'\n",
      "content=' of' additional_kwargs={} response_metadata={} id='run--b18ab1b1-2395-4c6c-a7e4-54cd6d663b54'\n",
      "content=' the' additional_kwargs={} response_metadata={} id='run--b18ab1b1-2395-4c6c-a7e4-54cd6d663b54'\n",
      "content=' village' additional_kwargs={} response_metadata={} id='run--b18ab1b1-2395-4c6c-a7e4-54cd6d663b54'\n",
      "content=\"'s\" additional_kwargs={} response_metadata={} id='run--b18ab1b1-2395-4c6c-a7e4-54cd6d663b54'\n",
      "content=' strength' additional_kwargs={} response_metadata={} id='run--b18ab1b1-2395-4c6c-a7e4-54cd6d663b54'\n",
      "content=' and' additional_kwargs={} response_metadata={} id='run--b18ab1b1-2395-4c6c-a7e4-54cd6d663b54'\n",
      "content=' resilience' additional_kwargs={} response_metadata={} id='run--b18ab1b1-2395-4c6c-a7e4-54cd6d663b54'\n",
      "content='.' additional_kwargs={} response_metadata={} id='run--b18ab1b1-2395-4c6c-a7e4-54cd6d663b54'\n",
      "content=' Whenever' additional_kwargs={} response_metadata={} id='run--b18ab1b1-2395-4c6c-a7e4-54cd6d663b54'\n",
      "content=' the' additional_kwargs={} response_metadata={} id='run--b18ab1b1-2395-4c6c-a7e4-54cd6d663b54'\n",
      "content=' villagers' additional_kwargs={} response_metadata={} id='run--b18ab1b1-2395-4c6c-a7e4-54cd6d663b54'\n",
      "content=' faced' additional_kwargs={} response_metadata={} id='run--b18ab1b1-2395-4c6c-a7e4-54cd6d663b54'\n",
      "content=' challenges' additional_kwargs={} response_metadata={} id='run--b18ab1b1-2395-4c6c-a7e4-54cd6d663b54'\n",
      "content=',' additional_kwargs={} response_metadata={} id='run--b18ab1b1-2395-4c6c-a7e4-54cd6d663b54'\n",
      "content=' they' additional_kwargs={} response_metadata={} id='run--b18ab1b1-2395-4c6c-a7e4-54cd6d663b54'\n",
      "content=' would' additional_kwargs={} response_metadata={} id='run--b18ab1b1-2395-4c6c-a7e4-54cd6d663b54'\n",
      "content=' look' additional_kwargs={} response_metadata={} id='run--b18ab1b1-2395-4c6c-a7e4-54cd6d663b54'\n",
      "content=' to' additional_kwargs={} response_metadata={} id='run--b18ab1b1-2395-4c6c-a7e4-54cd6d663b54'\n",
      "content=' Luna' additional_kwargs={} response_metadata={} id='run--b18ab1b1-2395-4c6c-a7e4-54cd6d663b54'\n",
      "content=\"'s\" additional_kwargs={} response_metadata={} id='run--b18ab1b1-2395-4c6c-a7e4-54cd6d663b54'\n",
      "content=' weaving' additional_kwargs={} response_metadata={} id='run--b18ab1b1-2395-4c6c-a7e4-54cd6d663b54'\n",
      "content=',' additional_kwargs={} response_metadata={} id='run--b18ab1b1-2395-4c6c-a7e4-54cd6d663b54'\n",
      "content=' remembering' additional_kwargs={} response_metadata={} id='run--b18ab1b1-2395-4c6c-a7e4-54cd6d663b54'\n",
      "content=' the' additional_kwargs={} response_metadata={} id='run--b18ab1b1-2395-4c6c-a7e4-54cd6d663b54'\n",
      "content=' power' additional_kwargs={} response_metadata={} id='run--b18ab1b1-2395-4c6c-a7e4-54cd6d663b54'\n",
      "content=' of' additional_kwargs={} response_metadata={} id='run--b18ab1b1-2395-4c6c-a7e4-54cd6d663b54'\n",
      "content=' hope' additional_kwargs={} response_metadata={} id='run--b18ab1b1-2395-4c6c-a7e4-54cd6d663b54'\n",
      "content=' and' additional_kwargs={} response_metadata={} id='run--b18ab1b1-2395-4c6c-a7e4-54cd6d663b54'\n",
      "content=' unity' additional_kwargs={} response_metadata={} id='run--b18ab1b1-2395-4c6c-a7e4-54cd6d663b54'\n",
      "content=' that' additional_kwargs={} response_metadata={} id='run--b18ab1b1-2395-4c6c-a7e4-54cd6d663b54'\n",
      "content=' had' additional_kwargs={} response_metadata={} id='run--b18ab1b1-2395-4c6c-a7e4-54cd6d663b54'\n",
      "content=' brought' additional_kwargs={} response_metadata={} id='run--b18ab1b1-2395-4c6c-a7e4-54cd6d663b54'\n",
      "content=' them' additional_kwargs={} response_metadata={} id='run--b18ab1b1-2395-4c6c-a7e4-54cd6d663b54'\n",
      "content=' together' additional_kwargs={} response_metadata={} id='run--b18ab1b1-2395-4c6c-a7e4-54cd6d663b54'\n",
      "content='.\\n\\n' additional_kwargs={} response_metadata={} id='run--b18ab1b1-2395-4c6c-a7e4-54cd6d663b54'\n",
      "content='And' additional_kwargs={} response_metadata={} id='run--b18ab1b1-2395-4c6c-a7e4-54cd6d663b54'\n",
      "content=' Luna' additional_kwargs={} response_metadata={} id='run--b18ab1b1-2395-4c6c-a7e4-54cd6d663b54'\n",
      "content=',' additional_kwargs={} response_metadata={} id='run--b18ab1b1-2395-4c6c-a7e4-54cd6d663b54'\n",
      "content=' surrounded' additional_kwargs={} response_metadata={} id='run--b18ab1b1-2395-4c6c-a7e4-54cd6d663b54'\n",
      "content=' by' additional_kwargs={} response_metadata={} id='run--b18ab1b1-2395-4c6c-a7e4-54cd6d663b54'\n",
      "content=' her' additional_kwargs={} response_metadata={} id='run--b18ab1b1-2395-4c6c-a7e4-54cd6d663b54'\n",
      "content=' threads' additional_kwargs={} response_metadata={} id='run--b18ab1b1-2395-4c6c-a7e4-54cd6d663b54'\n",
      "content=' and' additional_kwargs={} response_metadata={} id='run--b18ab1b1-2395-4c6c-a7e4-54cd6d663b54'\n",
      "content=' yarn' additional_kwargs={} response_metadata={} id='run--b18ab1b1-2395-4c6c-a7e4-54cd6d663b54'\n",
      "content='s' additional_kwargs={} response_metadata={} id='run--b18ab1b1-2395-4c6c-a7e4-54cd6d663b54'\n",
      "content=',' additional_kwargs={} response_metadata={} id='run--b18ab1b1-2395-4c6c-a7e4-54cd6d663b54'\n",
      "content=' continued' additional_kwargs={} response_metadata={} id='run--b18ab1b1-2395-4c6c-a7e4-54cd6d663b54'\n",
      "content=' to' additional_kwargs={} response_metadata={} id='run--b18ab1b1-2395-4c6c-a7e4-54cd6d663b54'\n",
      "content=' weave' additional_kwargs={} response_metadata={} id='run--b18ab1b1-2395-4c6c-a7e4-54cd6d663b54'\n",
      "content=' her' additional_kwargs={} response_metadata={} id='run--b18ab1b1-2395-4c6c-a7e4-54cd6d663b54'\n",
      "content=' magic' additional_kwargs={} response_metadata={} id='run--b18ab1b1-2395-4c6c-a7e4-54cd6d663b54'\n",
      "content=',' additional_kwargs={} response_metadata={} id='run--b18ab1b1-2395-4c6c-a7e4-54cd6d663b54'\n",
      "content=' spreading' additional_kwargs={} response_metadata={} id='run--b18ab1b1-2395-4c6c-a7e4-54cd6d663b54'\n",
      "content=' love' additional_kwargs={} response_metadata={} id='run--b18ab1b1-2395-4c6c-a7e4-54cd6d663b54'\n",
      "content=' and' additional_kwargs={} response_metadata={} id='run--b18ab1b1-2395-4c6c-a7e4-54cd6d663b54'\n",
      "content=' hope' additional_kwargs={} response_metadata={} id='run--b18ab1b1-2395-4c6c-a7e4-54cd6d663b54'\n",
      "content=' throughout' additional_kwargs={} response_metadata={} id='run--b18ab1b1-2395-4c6c-a7e4-54cd6d663b54'\n",
      "content=' the' additional_kwargs={} response_metadata={} id='run--b18ab1b1-2395-4c6c-a7e4-54cd6d663b54'\n",
      "content=' village' additional_kwargs={} response_metadata={} id='run--b18ab1b1-2395-4c6c-a7e4-54cd6d663b54'\n",
      "content=',' additional_kwargs={} response_metadata={} id='run--b18ab1b1-2395-4c6c-a7e4-54cd6d663b54'\n",
      "content=' one' additional_kwargs={} response_metadata={} id='run--b18ab1b1-2395-4c6c-a7e4-54cd6d663b54'\n",
      "content=' tape' additional_kwargs={} response_metadata={} id='run--b18ab1b1-2395-4c6c-a7e4-54cd6d663b54'\n",
      "content='stry' additional_kwargs={} response_metadata={} id='run--b18ab1b1-2395-4c6c-a7e4-54cd6d663b54'\n",
      "content=' at' additional_kwargs={} response_metadata={} id='run--b18ab1b1-2395-4c6c-a7e4-54cd6d663b54'\n",
      "content=' a' additional_kwargs={} response_metadata={} id='run--b18ab1b1-2395-4c6c-a7e4-54cd6d663b54'\n",
      "content=' time' additional_kwargs={} response_metadata={} id='run--b18ab1b1-2395-4c6c-a7e4-54cd6d663b54'\n",
      "content='.' additional_kwargs={} response_metadata={} id='run--b18ab1b1-2395-4c6c-a7e4-54cd6d663b54'\n",
      "content='' additional_kwargs={} response_metadata={'finish_reason': 'stop', 'model_name': 'llama-3.1-8b-instant', 'system_fingerprint': 'fp_7083106d2c', 'service_tier': 'on_demand'} id='run--b18ab1b1-2395-4c6c-a7e4-54cd6d663b54' usage_metadata={'input_tokens': 39, 'output_tokens': 412, 'total_tokens': 451}\n"
     ]
    }
   ],
   "source": [
    "for chunk in llm.stream(\"tell a short story\"):\n",
    "    print(str(chunk))"
   ]
  },
  {
   "cell_type": "code",
   "execution_count": null,
   "id": "81d67366",
   "metadata": {},
   "outputs": [
    {
     "name": "stdout",
     "output_type": "stream",
     "text": [
      "llama-3.1-8b-instant\n"
     ]
    }
   ],
   "source": [
    "full_response = \"\"\n",
    "for chunk in llm.stream(\"tell a joke\"):\n",
    "    full_response += chunk.content\n",
    "    if \"finish_reason\" in chunk.response_metadata:\n",
    "        if chunk.response_metadata[\"finish_reason\"].lower() == \"stop\":\n",
    "            print(chunk.response_metadata[\"model_name\"])"
   ]
  },
  {
   "cell_type": "code",
   "execution_count": 19,
   "id": "8d119d09",
   "metadata": {},
   "outputs": [
    {
     "data": {
      "text/plain": [
       "AIMessage(content=\"It's nice to meet you. Is there something I can help you with or would you like to chat?\", additional_kwargs={}, response_metadata={'token_usage': {'completion_tokens': 23, 'prompt_tokens': 36, 'total_tokens': 59, 'completion_time': 0.024291614, 'prompt_time': 0.008300114, 'queue_time': 0.046578856, 'total_time': 0.032591728}, 'model_name': 'llama-3.1-8b-instant', 'system_fingerprint': 'fp_2115512ff6', 'service_tier': 'on_demand', 'finish_reason': 'stop', 'logprobs': None}, id='run--2b381a4a-0562-4047-8ea1-2ccd3f849e78-0', usage_metadata={'input_tokens': 36, 'output_tokens': 23, 'total_tokens': 59})"
      ]
     },
     "execution_count": 19,
     "metadata": {},
     "output_type": "execute_result"
    }
   ],
   "source": [
    "llm.invoke(\"Hi\")"
   ]
  }
 ],
 "metadata": {
  "kernelspec": {
   "display_name": ".venv",
   "language": "python",
   "name": "python3"
  },
  "language_info": {
   "codemirror_mode": {
    "name": "ipython",
    "version": 3
   },
   "file_extension": ".py",
   "mimetype": "text/x-python",
   "name": "python",
   "nbconvert_exporter": "python",
   "pygments_lexer": "ipython3",
   "version": "3.10.11"
  }
 },
 "nbformat": 4,
 "nbformat_minor": 5
}
