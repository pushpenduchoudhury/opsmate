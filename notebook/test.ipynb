{
 "cells": [
  {
   "cell_type": "code",
   "execution_count": 1,
   "id": "cee95c54",
   "metadata": {},
   "outputs": [
    {
     "name": "stderr",
     "output_type": "stream",
     "text": [
      "2025-09-01 18:41:50.492 WARNING streamlit.runtime.caching.cache_data_api: No runtime found, using MemoryCacheStorageManager\n",
      "2025-09-01 18:41:50.831 Thread 'MainThread': missing ScriptRunContext! This warning can be ignored when running in bare mode.\n",
      "2025-09-01 18:41:50.836 Thread 'MainThread': missing ScriptRunContext! This warning can be ignored when running in bare mode.\n",
      "2025-09-01 18:41:50.842 Thread 'MainThread': missing ScriptRunContext! This warning can be ignored when running in bare mode.\n",
      "2025-09-01 18:41:50.847 Thread 'MainThread': missing ScriptRunContext! This warning can be ignored when running in bare mode.\n"
     ]
    }
   ],
   "source": [
    "import streamlit as st\n",
    "import streamlit_authenticator as stauth"
   ]
  },
  {
   "cell_type": "code",
   "execution_count": 3,
   "id": "56ba25b8",
   "metadata": {},
   "outputs": [],
   "source": [
    "names = ['Pushpendu Choudhury', 'Administrator']\n",
    "usernames = ['pushpendu', 'admin']\n",
    "passwords = ['password', 'password']"
   ]
  },
  {
   "cell_type": "code",
   "execution_count": 5,
   "id": "42555abb",
   "metadata": {},
   "outputs": [],
   "source": [
    "from utils import utils"
   ]
  },
  {
   "cell_type": "code",
   "execution_count": 7,
   "id": "66ea632b",
   "metadata": {},
   "outputs": [
    {
     "data": {
      "text/plain": [
       "'$2b$12$Rk9a3oBPMfnetUZY/kVgY.3UaXtMSxc3B/m/XO7ks0XAFJTx6r7VG'"
      ]
     },
     "execution_count": 7,
     "metadata": {},
     "output_type": "execute_result"
    }
   ],
   "source": [
    "utils.hash_password(passwords[1])"
   ]
  },
  {
   "cell_type": "code",
   "execution_count": 13,
   "id": "b06d272b",
   "metadata": {},
   "outputs": [
    {
     "data": {
      "text/plain": [
       "False"
      ]
     },
     "execution_count": 13,
     "metadata": {},
     "output_type": "execute_result"
    }
   ],
   "source": [
    "utils.check_password(\"admin\", \"passwaord\")"
   ]
  },
  {
   "cell_type": "code",
   "execution_count": 15,
   "id": "7b17e097",
   "metadata": {},
   "outputs": [],
   "source": [
    "def get_ollama_models() -> list:\n",
    "    import ollama\n",
    "    ollama_client = ollama.Client()\n",
    "    llm = ollama_client.list()\n",
    "    model_list:list[str] = [i['model'] for i in llm['models']]\n",
    "    return model_list"
   ]
  },
  {
   "cell_type": "code",
   "execution_count": 16,
   "id": "73665a77",
   "metadata": {},
   "outputs": [
    {
     "data": {
      "text/plain": [
       "['deepseek-r1:8b', 'nomic-embed-text:latest', 'llama3.1:8b']"
      ]
     },
     "execution_count": 16,
     "metadata": {},
     "output_type": "execute_result"
    }
   ],
   "source": [
    "get_ollama_models()"
   ]
  }
 ],
 "metadata": {
  "kernelspec": {
   "display_name": ".venv",
   "language": "python",
   "name": "python3"
  },
  "language_info": {
   "codemirror_mode": {
    "name": "ipython",
    "version": 3
   },
   "file_extension": ".py",
   "mimetype": "text/x-python",
   "name": "python",
   "nbconvert_exporter": "python",
   "pygments_lexer": "ipython3",
   "version": "3.10.11"
  }
 },
 "nbformat": 4,
 "nbformat_minor": 5
}
